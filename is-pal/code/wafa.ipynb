{
 "cells": [
  {
   "cell_type": "code",
   "execution_count": 25,
   "metadata": {},
   "outputs": [],
   "source": [
    "import requests\n",
    "from bs4 import BeautifulSoup, SoupStrainer\n",
    "from urllib.request import Request, urlopen\n",
    "from bs4 import BeautifulSoup as soup\n",
    "from selenium import webdriver\n",
    "from newspaper import Article, Config\n",
    "import time"
   ]
  },
  {
   "cell_type": "code",
   "execution_count": 16,
   "metadata": {},
   "outputs": [],
   "source": [
    "fromDate = \"10%2F1%2F2023%2012%3A00%3A00%20AM\"\n",
    "toDate = \"10%2F31%2F2023%2012%3A00%3A00%20AM\"\n",
    "page = 1\n",
    "keyword = \"israel\"\n",
    "url = f\"https://english.wafa.ps/Home/Search?searchString={keyword}&fromDate={fromDate}&toDate={toDate}&pageNumber={page}\""
   ]
  },
  {
   "cell_type": "code",
   "execution_count": 17,
   "metadata": {},
   "outputs": [
    {
     "data": {
      "text/plain": [
       "'https://english.wafa.ps/Home/Search?searchString=israel&fromDate=10%2F1%2F2023%2012%3A00%3A00%20AM&toDate=10%2F31%2F2023%2012%3A00%3A00%20AM&pageNumber=1'"
      ]
     },
     "execution_count": 17,
     "metadata": {},
     "output_type": "execute_result"
    }
   ],
   "source": [
    "url"
   ]
  },
  {
   "cell_type": "code",
   "execution_count": 18,
   "metadata": {},
   "outputs": [
    {
     "ename": "HTTPError",
     "evalue": "HTTP Error 403: Forbidden",
     "output_type": "error",
     "traceback": [
      "\u001b[0;31m---------------------------------------------------------------------------\u001b[0m",
      "\u001b[0;31mHTTPError\u001b[0m                                 Traceback (most recent call last)",
      "\u001b[1;32m/Users/alexanderkumar/Desktop/is-pal/wafa.ipynb Cell 4\u001b[0m line \u001b[0;36m2\n\u001b[1;32m      <a href='vscode-notebook-cell:/Users/alexanderkumar/Desktop/is-pal/wafa.ipynb#W4sZmlsZQ%3D%3D?line=0'>1</a>\u001b[0m req \u001b[39m=\u001b[39m Request(url , headers\u001b[39m=\u001b[39m{\u001b[39m'\u001b[39m\u001b[39mUser-Agent\u001b[39m\u001b[39m'\u001b[39m: \u001b[39m'\u001b[39m\u001b[39mMozilla/5.0\u001b[39m\u001b[39m'\u001b[39m})\n\u001b[0;32m----> <a href='vscode-notebook-cell:/Users/alexanderkumar/Desktop/is-pal/wafa.ipynb#W4sZmlsZQ%3D%3D?line=1'>2</a>\u001b[0m webpage \u001b[39m=\u001b[39m urlopen(req)\u001b[39m.\u001b[39mread()\n\u001b[1;32m      <a href='vscode-notebook-cell:/Users/alexanderkumar/Desktop/is-pal/wafa.ipynb#W4sZmlsZQ%3D%3D?line=2'>3</a>\u001b[0m page_soup \u001b[39m=\u001b[39m soup(webpage, \u001b[39m\"\u001b[39m\u001b[39mhtml.parser\u001b[39m\u001b[39m\"\u001b[39m)\n\u001b[1;32m      <a href='vscode-notebook-cell:/Users/alexanderkumar/Desktop/is-pal/wafa.ipynb#W4sZmlsZQ%3D%3D?line=3'>4</a>\u001b[0m title \u001b[39m=\u001b[39m page_soup\u001b[39m.\u001b[39mfind(\u001b[39m\"\u001b[39m\u001b[39mtitle\u001b[39m\u001b[39m\"\u001b[39m)\n",
      "File \u001b[0;32m~/miniconda3/envs/webscraping/lib/python3.9/urllib/request.py:214\u001b[0m, in \u001b[0;36murlopen\u001b[0;34m(url, data, timeout, cafile, capath, cadefault, context)\u001b[0m\n\u001b[1;32m    212\u001b[0m \u001b[39melse\u001b[39;00m:\n\u001b[1;32m    213\u001b[0m     opener \u001b[39m=\u001b[39m _opener\n\u001b[0;32m--> 214\u001b[0m \u001b[39mreturn\u001b[39;00m opener\u001b[39m.\u001b[39;49mopen(url, data, timeout)\n",
      "File \u001b[0;32m~/miniconda3/envs/webscraping/lib/python3.9/urllib/request.py:523\u001b[0m, in \u001b[0;36mOpenerDirector.open\u001b[0;34m(self, fullurl, data, timeout)\u001b[0m\n\u001b[1;32m    521\u001b[0m \u001b[39mfor\u001b[39;00m processor \u001b[39min\u001b[39;00m \u001b[39mself\u001b[39m\u001b[39m.\u001b[39mprocess_response\u001b[39m.\u001b[39mget(protocol, []):\n\u001b[1;32m    522\u001b[0m     meth \u001b[39m=\u001b[39m \u001b[39mgetattr\u001b[39m(processor, meth_name)\n\u001b[0;32m--> 523\u001b[0m     response \u001b[39m=\u001b[39m meth(req, response)\n\u001b[1;32m    525\u001b[0m \u001b[39mreturn\u001b[39;00m response\n",
      "File \u001b[0;32m~/miniconda3/envs/webscraping/lib/python3.9/urllib/request.py:632\u001b[0m, in \u001b[0;36mHTTPErrorProcessor.http_response\u001b[0;34m(self, request, response)\u001b[0m\n\u001b[1;32m    629\u001b[0m \u001b[39m# According to RFC 2616, \"2xx\" code indicates that the client's\u001b[39;00m\n\u001b[1;32m    630\u001b[0m \u001b[39m# request was successfully received, understood, and accepted.\u001b[39;00m\n\u001b[1;32m    631\u001b[0m \u001b[39mif\u001b[39;00m \u001b[39mnot\u001b[39;00m (\u001b[39m200\u001b[39m \u001b[39m<\u001b[39m\u001b[39m=\u001b[39m code \u001b[39m<\u001b[39m \u001b[39m300\u001b[39m):\n\u001b[0;32m--> 632\u001b[0m     response \u001b[39m=\u001b[39m \u001b[39mself\u001b[39;49m\u001b[39m.\u001b[39;49mparent\u001b[39m.\u001b[39;49merror(\n\u001b[1;32m    633\u001b[0m         \u001b[39m'\u001b[39;49m\u001b[39mhttp\u001b[39;49m\u001b[39m'\u001b[39;49m, request, response, code, msg, hdrs)\n\u001b[1;32m    635\u001b[0m \u001b[39mreturn\u001b[39;00m response\n",
      "File \u001b[0;32m~/miniconda3/envs/webscraping/lib/python3.9/urllib/request.py:561\u001b[0m, in \u001b[0;36mOpenerDirector.error\u001b[0;34m(self, proto, *args)\u001b[0m\n\u001b[1;32m    559\u001b[0m \u001b[39mif\u001b[39;00m http_err:\n\u001b[1;32m    560\u001b[0m     args \u001b[39m=\u001b[39m (\u001b[39mdict\u001b[39m, \u001b[39m'\u001b[39m\u001b[39mdefault\u001b[39m\u001b[39m'\u001b[39m, \u001b[39m'\u001b[39m\u001b[39mhttp_error_default\u001b[39m\u001b[39m'\u001b[39m) \u001b[39m+\u001b[39m orig_args\n\u001b[0;32m--> 561\u001b[0m     \u001b[39mreturn\u001b[39;00m \u001b[39mself\u001b[39;49m\u001b[39m.\u001b[39;49m_call_chain(\u001b[39m*\u001b[39;49margs)\n",
      "File \u001b[0;32m~/miniconda3/envs/webscraping/lib/python3.9/urllib/request.py:494\u001b[0m, in \u001b[0;36mOpenerDirector._call_chain\u001b[0;34m(self, chain, kind, meth_name, *args)\u001b[0m\n\u001b[1;32m    492\u001b[0m \u001b[39mfor\u001b[39;00m handler \u001b[39min\u001b[39;00m handlers:\n\u001b[1;32m    493\u001b[0m     func \u001b[39m=\u001b[39m \u001b[39mgetattr\u001b[39m(handler, meth_name)\n\u001b[0;32m--> 494\u001b[0m     result \u001b[39m=\u001b[39m func(\u001b[39m*\u001b[39;49margs)\n\u001b[1;32m    495\u001b[0m     \u001b[39mif\u001b[39;00m result \u001b[39mis\u001b[39;00m \u001b[39mnot\u001b[39;00m \u001b[39mNone\u001b[39;00m:\n\u001b[1;32m    496\u001b[0m         \u001b[39mreturn\u001b[39;00m result\n",
      "File \u001b[0;32m~/miniconda3/envs/webscraping/lib/python3.9/urllib/request.py:641\u001b[0m, in \u001b[0;36mHTTPDefaultErrorHandler.http_error_default\u001b[0;34m(self, req, fp, code, msg, hdrs)\u001b[0m\n\u001b[1;32m    640\u001b[0m \u001b[39mdef\u001b[39;00m \u001b[39mhttp_error_default\u001b[39m(\u001b[39mself\u001b[39m, req, fp, code, msg, hdrs):\n\u001b[0;32m--> 641\u001b[0m     \u001b[39mraise\u001b[39;00m HTTPError(req\u001b[39m.\u001b[39mfull_url, code, msg, hdrs, fp)\n",
      "\u001b[0;31mHTTPError\u001b[0m: HTTP Error 403: Forbidden"
     ]
    }
   ],
   "source": [
    "req = Request(url , headers={'User-Agent': 'Mozilla/5.0'})\n",
    "webpage = urlopen(req).read()\n",
    "page_soup = soup(webpage, \"html.parser\")\n",
    "title = page_soup.find(\"title\")\n",
    "print(title)\n",
    "# containers = page_soup.findAll(\"p\",\"promo\")\n",
    "# for container in containers:\n",
    "#     print(container)"
   ]
  },
  {
   "cell_type": "code",
   "execution_count": 23,
   "metadata": {},
   "outputs": [
    {
     "name": "stdout",
     "output_type": "stream",
     "text": [
      "<!DOCTYPE html><html lang=\"en-US\"><head><title>Just a moment...</title><meta http-equiv=\"Content-Type\" content=\"text/html; charset=UTF-8\"><meta http-equiv=\"X-UA-Compatible\" content=\"IE=Edge\"><meta name=\"robots\" content=\"noindex,nofollow\"><meta name=\"viewport\" content=\"width=device-width,initial-scale=1\"><link href=\"/cdn-cgi/styles/challenges.css\" rel=\"stylesheet\"><meta http-equiv=\"refresh\" content=\"375\"></head><body class=\"no-js\"><div class=\"main-wrapper\" role=\"main\"><div class=\"main-content\"><noscript><div id=\"challenge-error-title\"><div class=\"h2\"><span class=\"icon-wrapper\"><div class=\"heading-icon warning-icon\"></div></span><span id=\"challenge-error-text\">Enable JavaScript and cookies to continue</span></div></div></noscript></div></div><script>(function(){window._cf_chl_opt={cvId: '2',cZone: \"english.wafa.ps\",cType: 'interactive',cNounce: '71763',cRay: '82cc3df0d88e4414',cHash: '2e622ebf18d3372',cUPMDTk: \"\\/Home\\/Search?searchString=israel&fromDate=10%2F1%2F2023%2012%3A00%3A00%20AM&toDate=10%2F31%2F2023%2012%3A00%3A00%20AM&pageNumber=1&__cf_chl_tk=n7Ood72lqn4gx4xcBk1nUwaqb8vYNp8OMJStiVNpy3I-1701107724-0-gaNycGzNC1A\",cFPWv: 'g',cTTimeMs: '1000',cMTimeMs: '375000',cTplV: 5,cTplB: 'cf',cK: \"visitor-time\",fa: \"\\/Home\\/Search?searchString=israel&fromDate=10%2F1%2F2023%2012%3A00%3A00%20AM&toDate=10%2F31%2F2023%2012%3A00%3A00%20AM&pageNumber=1&__cf_chl_f_tk=n7Ood72lqn4gx4xcBk1nUwaqb8vYNp8OMJStiVNpy3I-1701107724-0-gaNycGzNC1A\",md: \"S6n6Z3ScH3jdeW7Rylmo2Hg7tmzHVgY1InAOxTskdaA-1701107724-0-AU0REGhScG3K4yqvEijnqgXCB-jh5Fc7eHwWFAZp42usD6bucGGDdZjTl353giAi4M8f9JgPoGFHL_C6y5QA_Vtj8GcHT4t0LS3Tv8xqQwg4tSq45Lbo2R1YDC6dccc4SE_2PA2tG-odNaL6d2awt8AIjjI0Y9pORJ9a79-EwyT7uCyZFf4BpL5AhKXG4jPxHlE-5KwfWmiemyrLcNrZbxRM5Czu_8gua3zmzKoVhrRgk5E7IDp4Mz5U7J2LeNvcotY3HBF_2S3GnOywKnhrG1D650CdiC58sMvBySOM-UVOkfezc8ZTMDCTvYlFscQwcVhDkHMmi0Pa7wHYMoKuvrRlesXqYGmNF13eyGLMdJlO1OP_8-oyLHocBRyJVv5-uyLGKD5BUcJTqkmOn74D9CsHe-NARId8d7t7M0p0xwkb_7haXKdiIhFG4Kofoj1_teNXv9plI0V9w-Na12i0OVyqkGrxsf9MGaRIKgUgMJUJ7-fIX6JcmIorgijWGgMlBVg7dpqNqY7PgqKpuWBlvCqf5uwcj1QfkUr50PRg14XBJvQTdRG98dD_cDIRlWRnY5ITzGq4OfGLZ9NsC9Q_42ngZPAgPVcM7hEpb-0MSTzWn7QLRsRO4Yx26uL4cQ67Ck7yHl0ctlott2K02U9o1maOB9opSZRKFNfWRTfXb_8Z2iaNboiTKW-bHTonRL4VZ-YCkw84xK_hKaCKfBmtbe5mb2z8FJAyxLcFbOOsL-zL3SnuhcwUV1eBAwiWBHbX-gIsFZc-wM73ilOYRt6g-th7NEYqx4Ch7pa9axenIJdcFvCv9tX6VdtBGl3Z1Uj7TbaGoIE0dwRng2UJaz8IKQYYaxJ6x-TF0Z8wPpn69OVkZhrmUkb0Elb3xicQealmkOySFFvrnDSvfF_zP50BFdEiZbWJ-XHYqHNPYI0i-4bqnvwStT-rB0H70jNIFLkpvmyVHvxcOiE0jdcyCTzYenfDj6V1zl4BxL5GSu5rKzD4W-fdD-1uiy14Q5EenFgY6Rf9XKI-mJE5an1RSP-rSP_yg-IjcP8cTT1rJe6inoLWkGErYWMDp-KIFDAgK3XgsHpjrxW3PG1kn7tGlf63QZjS4SLtKaby0MBEEqZBIaIUD345km3qcqQ3-oyDr8R26q24GVoRpmP6COefp4iJI23WrkYUoir6d2GvMVb-lv_pUgIAGIB1VxmaViPQ80mYONrgbSN3NmA4aJsUAZdsCrbgfrqx7QjLTaTC2kqxtPOqrusVttqosJhMi-YRfjiKukVH_seJcAxOp09xbo_iRRtYHryZdUgGFNwrMWi8tGwTGppj2f31G9CYMaJUYXRQSLT6sikPx5jJKkYBShQyuDX3-UmeOi9UUimpXggAqp_BFi08HAIQ8Hmb3xVw-OnnmnSxXtK2XmHN85nsr_qHa2b_JwLV3u0UQUg8p-HeYZlxHQiA2qd-Tc4Vv5Uy_PV2y3x93YboPfpSYP-iZ8oD3ATQ1OTIgHIy2ukHetZtadcekmz553G_8wY3O7Eg8vuHIUfvf5HA3pc7dpFXxnTCq_9jzCALbl7xIbe2gRgT33U7uCDeqzfUlNihtl6fqe7zca4WJrB5zXmWf0dJBzpmxTl0TLU6IEp70uwHWbszxGFPHyIujnq_DbYHWYNRHr-zgWv2d_I0pXVag1yfqeBbtK7ojktlCtKPNryO2Tytj3R8iyFzXX6igESi6F4Se7MZdTgMlAF4fRLGW-_U9I9g_MguGWgYgdUnmoSllv_OHrvErjKDGSN022jh2m4eWuJGB1GC5c3A6y03gas5zP1QjsHSRISACtlr49FMqkE0PCtx51ELNnMSzWkRhuS_OenWIefYBfo5o8HWFozIaMoUr3IZsDMCUzgCYfzhW7sXyI0SgQCl37wpsWZc2RswIJ_6EeUwfdVvFVHW8AMGmS_7frg4hqXeEvD6_UGLthTLogKiIofubdV03_fGVJsdvCaqj7T4U6gO6EdCP-sR3BsPjhrWYPlUCx4uYYCpUAMRStTIewShhJNhLo7tJL0M0xlC3_dr79QH6tSzWUKLzE4zJpRQgFNFwq8Q4DZBvVHf6w4ZRR8_S5sfu5Gp4EBYOCjwiB1rzAym0uYn8iJaFe0RPRjTlHMVTHuf-8tf2Ur1mG2gBw_pdzFLCWCRtqgrTQIaTVBq2j2lBkdzvD4jjO88NL_e1gL9Ov6ywael-ZJ6bNWVf_bPo2FRas375RQB98O1M1yIiD1_zn8-xiiRn7mscUIU4kqUIQ3-lLpM4PzxBTcHZj5gQ5Uxq7Ia71Nxsdo3f770H8SdOUsp-MsuXO_63nBoOcuDwIW_nVyvB2DIYODPF09E0ZOkvXwvI-Ib_Uv8jK0iYl3X9W3lbpBXLgTHJDft9h_fdtGZ47i0ufgKCltg-0pYFMStIZCOp-AwaH179ICBNWWmz1HpraDALWzTgEiRunqnlIwqiIvtrJWYyGsaGIU4DbNql7LlXbz9Hd2LfCYpuAKg-YsjtrIz5dVyILwC_Wxl8WkuGiwYQiQ0XY6a2ZCMU6m7qe7rVfHmCyjgTSXlb73AdS4Y4nAIE0OKbTgYswjDT4SpJq_uAoVzNgIYxNl8EgAVMjbiY5B97_irO89XV34PPVK23f8DByATnbKVUCPeqHV5izIETnXu0mEwkdwFQZcnxcRmpgpaTfowMSt3ihVLPBJJHxw5HPawWrLi1l6KdvaBgfPe3skFTEoMOYyyfgcNIjZPoNBPHU21BOYulrFRxNIo_Xu_pe3NiqSKaRvAVwjHssYdKadb8u1nWPwYr5M0CsTLQGQOx7U109lav6mE9JrthslP2yvHR_Y\",cRq: {ru: 'aHR0cHM6Ly9lbmdsaXNoLndhZmEucHMvSG9tZS9TZWFyY2g/c2VhcmNoU3RyaW5nPWlzcmFlbCZmcm9tRGF0ZT0xMCUyRjElMkYyMDIzJTIwMTIlM0EwMCUzQTAwJTIwQU0mdG9EYXRlPTEwJTJGMzElMkYyMDIzJTIwMTIlM0EwMCUzQTAwJTIwQU0mcGFnZU51bWJlcj0x',ra: 'TW96aWxsYS81LjAgKE1hY2ludG9zaDsgSW50ZWwgTWFjIE9TIFggMTBfMTFfNSkgQXBwbGVXZWJLaXQvNTM3LjM2IChLSFRNTCwgbGlrZSBHZWNrbykgQ2hyb21lLzUwLjAuMjY2MS4xMDIgU2FmYXJpLzUzNy4zNg==',rm: 'R0VU',d: '5bPnptZPaK8coUbIYmUjQisKBJIAUG73HezYa0kuuNFt4q6Fgeyih33G41RBbrvFBG9vU89HnGRJnflHOyURrogZ6qzcXk5idovSh2HKWW10753r0lqRZjQW6rkAt3RtxwziaLQMb7alac/V+R5zHnlrtevkn/yEo8Vh7Hp1bjZyP1rL9zBPKAxRquHIKy15KaKj0WbPUb0tw1mfOCEdsV9dJT/QKlOaS2WM1UWyWdOWIJ5w5I64UaOkQ19lKTFVMolsW/HrxMpVD72DjbxP+uULf3N1aojojr3FuKJKA3ary3weGLfQAAcaFqVoapjkdne/3Nhmfh2w2SSv1yGfEpzioZy6ixhhCRate+ukSHZPh0pux76dP5qytEl9RHwcJEHJms5xNgHn/TqkaxPbUnePQCNj+Wa8AF7DwV/eQVazjH4K7yk/VwnbbMvplMcN4UzLCCN9hTLHPu2AgOesmnIpgMqd3zCDa36dbbGcFwrKpsg7WfyGyiQbZ0U4/hbRRi+UUvolrPPZR6MaIUIf0A==',t: 'MTcwMTEwNzcyNC45MzIwMDA=',cT: Math.floor(Date.now() / 1000),m: 'hwz8Vpx35vtgB9kY6rgn7kCjMQGAzF2CAq6Dk8s8nfo=',i1: 'x4HevNC+MpOUjSwaKOr1dw==',i2: 'n5P5Dt7wrnx4/9k96Gldwg==',zh: 'ruoxomlH03LoyjVwQ5+EHDRLYD+oZsF3EEAN7BTDvws=',uh: 'MJnL4yXqlDXgoEFDXJrrYdndq9vyeF7u7u/p5sDi8wY=',hh: 'nhnUjPX6cuoZci2ogRwzogDPalE963bYrsw4bgKCk6o=',}};var cpo = document.createElement('script');cpo.src = '/cdn-cgi/challenge-platform/h/g/orchestrate/chl_page/v1?ray=82cc3df0d88e4414';window._cf_chl_opt.cOgUHash = location.hash === '' && location.href.indexOf('#') !== -1 ? '#' : location.hash;window._cf_chl_opt.cOgUQuery = location.search === '' && location.href.slice(0, location.href.length - window._cf_chl_opt.cOgUHash.length).indexOf('?') !== -1 ? '?' : location.search;if (window.history && window.history.replaceState) {var ogU = location.pathname + window._cf_chl_opt.cOgUQuery + window._cf_chl_opt.cOgUHash;history.replaceState(null, null, \"\\/Home\\/Search?searchString=israel&fromDate=10%2F1%2F2023%2012%3A00%3A00%20AM&toDate=10%2F31%2F2023%2012%3A00%3A00%20AM&pageNumber=1&__cf_chl_rt_tk=n7Ood72lqn4gx4xcBk1nUwaqb8vYNp8OMJStiVNpy3I-1701107724-0-gaNycGzNC1A\" + window._cf_chl_opt.cOgUHash);cpo.onload = function() {history.replaceState(null, null, ogU);}}document.getElementsByTagName('head')[0].appendChild(cpo);}());</script></body></html>\n"
     ]
    }
   ],
   "source": [
    "headers = {'User-Agent': 'Mozilla/5.0 (Macintosh; Intel Mac OS X 10_11_5) AppleWebKit/537.36 (KHTML, like Gecko) Chrome/50.0.2661.102 Safari/537.36'}\n",
    "result = requests.get(url, headers=headers)\n",
    "print(result.content.decode())"
   ]
  },
  {
   "cell_type": "code",
   "execution_count": 8,
   "metadata": {},
   "outputs": [],
   "source": [
    "with requests.Session() as se:\n",
    "    se.headers = {\n",
    "        \"User-Agent\": \"Mozilla/5.0 (Windows NT 10.0; Win64; x64) AppleWebKit/537.36 (KHTML, like Gecko) Chrome/70.0.3538.110 Safari/537.36\",\n",
    "        \"Accept-Encoding\": \"gzip, deflate\",\n",
    "        \"Accept\": \"text/html,application/xhtml+xml,application/xml;q=0.9,image/webp,image/apng,*/*;q=0.8\",\n",
    "        \"Accept-Language\": \"en\"\n",
    "    }"
   ]
  },
  {
   "cell_type": "code",
   "execution_count": 10,
   "metadata": {},
   "outputs": [
    {
     "name": "stdout",
     "output_type": "stream",
     "text": [
      "<Response [403]>\n"
     ]
    }
   ],
   "source": [
    "page = se.get(url)\n",
    "print(page)\n",
    "data = page.text\n",
    "soup = BeautifulSoup(data)\n",
    "\n",
    "for link in soup.find_all('a'):\n",
    "    print(link.get('href'))\n",
    "# if response.status_code == 200:\n",
    "#     # Parse and use the response data\n",
    "#     data = response.json()\n",
    "#     print(data)\n",
    "#     # hits = data[\"response\"][\"meta\"][\"hits\"]\n",
    "#     # print(\"hits: \", hits)\n",
    "# else:\n",
    "#     print(f\"Error: {response.status_code}, {response.text}\")"
   ]
  },
  {
   "cell_type": "code",
   "execution_count": 26,
   "metadata": {},
   "outputs": [
    {
     "ename": "ArticleException",
     "evalue": "Article `download()` failed with 403 Client Error: Forbidden for url: https://english.wafa.ps/Pages/Details/137888 on URL https://english.wafa.ps/Pages/Details/137888",
     "output_type": "error",
     "traceback": [
      "\u001b[0;31m---------------------------------------------------------------------------\u001b[0m",
      "\u001b[0;31mArticleException\u001b[0m                          Traceback (most recent call last)",
      "\u001b[1;32m/Users/alexanderkumar/Desktop/is-pal/wafa.ipynb Cell 8\u001b[0m line \u001b[0;36m5\n\u001b[1;32m      <a href='vscode-notebook-cell:/Users/alexanderkumar/Desktop/is-pal/wafa.ipynb#X11sZmlsZQ%3D%3D?line=2'>3</a>\u001b[0m time\u001b[39m.\u001b[39msleep(\u001b[39m6\u001b[39m)\n\u001b[1;32m      <a href='vscode-notebook-cell:/Users/alexanderkumar/Desktop/is-pal/wafa.ipynb#X11sZmlsZQ%3D%3D?line=3'>4</a>\u001b[0m article\u001b[39m.\u001b[39mdownload()\n\u001b[0;32m----> <a href='vscode-notebook-cell:/Users/alexanderkumar/Desktop/is-pal/wafa.ipynb#X11sZmlsZQ%3D%3D?line=4'>5</a>\u001b[0m article\u001b[39m.\u001b[39;49mparse()\n\u001b[1;32m      <a href='vscode-notebook-cell:/Users/alexanderkumar/Desktop/is-pal/wafa.ipynb#X11sZmlsZQ%3D%3D?line=5'>6</a>\u001b[0m text \u001b[39m=\u001b[39m article\u001b[39m.\u001b[39mtext\n",
      "File \u001b[0;32m~/miniconda3/envs/webscraping/lib/python3.9/site-packages/newspaper/article.py:191\u001b[0m, in \u001b[0;36mArticle.parse\u001b[0;34m(self)\u001b[0m\n\u001b[1;32m    190\u001b[0m \u001b[39mdef\u001b[39;00m \u001b[39mparse\u001b[39m(\u001b[39mself\u001b[39m):\n\u001b[0;32m--> 191\u001b[0m     \u001b[39mself\u001b[39;49m\u001b[39m.\u001b[39;49mthrow_if_not_downloaded_verbose()\n\u001b[1;32m    193\u001b[0m     \u001b[39mself\u001b[39m\u001b[39m.\u001b[39mdoc \u001b[39m=\u001b[39m \u001b[39mself\u001b[39m\u001b[39m.\u001b[39mconfig\u001b[39m.\u001b[39mget_parser()\u001b[39m.\u001b[39mfromstring(\u001b[39mself\u001b[39m\u001b[39m.\u001b[39mhtml)\n\u001b[1;32m    194\u001b[0m     \u001b[39mself\u001b[39m\u001b[39m.\u001b[39mclean_doc \u001b[39m=\u001b[39m copy\u001b[39m.\u001b[39mdeepcopy(\u001b[39mself\u001b[39m\u001b[39m.\u001b[39mdoc)\n",
      "File \u001b[0;32m~/miniconda3/envs/webscraping/lib/python3.9/site-packages/newspaper/article.py:531\u001b[0m, in \u001b[0;36mArticle.throw_if_not_downloaded_verbose\u001b[0;34m(self)\u001b[0m\n\u001b[1;32m    529\u001b[0m     \u001b[39mraise\u001b[39;00m ArticleException(\u001b[39m'\u001b[39m\u001b[39mYou must `download()` an article first!\u001b[39m\u001b[39m'\u001b[39m)\n\u001b[1;32m    530\u001b[0m \u001b[39melif\u001b[39;00m \u001b[39mself\u001b[39m\u001b[39m.\u001b[39mdownload_state \u001b[39m==\u001b[39m ArticleDownloadState\u001b[39m.\u001b[39mFAILED_RESPONSE:\n\u001b[0;32m--> 531\u001b[0m     \u001b[39mraise\u001b[39;00m ArticleException(\u001b[39m'\u001b[39m\u001b[39mArticle `download()` failed with \u001b[39m\u001b[39m%s\u001b[39;00m\u001b[39m on URL \u001b[39m\u001b[39m%s\u001b[39;00m\u001b[39m'\u001b[39m \u001b[39m%\u001b[39m\n\u001b[1;32m    532\u001b[0m           (\u001b[39mself\u001b[39m\u001b[39m.\u001b[39mdownload_exception_msg, \u001b[39mself\u001b[39m\u001b[39m.\u001b[39murl))\n",
      "\u001b[0;31mArticleException\u001b[0m: Article `download()` failed with 403 Client Error: Forbidden for url: https://english.wafa.ps/Pages/Details/137888 on URL https://english.wafa.ps/Pages/Details/137888"
     ]
    }
   ],
   "source": [
    "page = \"https://english.wafa.ps/Pages/Details/137888\"\n",
    "article = Article(page)\n",
    "time.sleep(6)\n",
    "article.download()\n",
    "article.parse()\n",
    "text = article.text"
   ]
  }
 ],
 "metadata": {
  "kernelspec": {
   "display_name": "webscraping",
   "language": "python",
   "name": "python3"
  },
  "language_info": {
   "codemirror_mode": {
    "name": "ipython",
    "version": 3
   },
   "file_extension": ".py",
   "mimetype": "text/x-python",
   "name": "python",
   "nbconvert_exporter": "python",
   "pygments_lexer": "ipython3",
   "version": "3.9.12"
  }
 },
 "nbformat": 4,
 "nbformat_minor": 2
}
