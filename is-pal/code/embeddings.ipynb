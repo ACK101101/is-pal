{
 "cells": [
  {
   "cell_type": "markdown",
   "metadata": {},
   "source": [
    "save embeddings\n",
    "run with bigrams\n",
    "compare embeddings across"
   ]
  },
  {
   "cell_type": "code",
   "execution_count": 564,
   "metadata": {},
   "outputs": [
    {
     "name": "stderr",
     "output_type": "stream",
     "text": [
      "[nltk_data] Downloading package punkt to\n",
      "[nltk_data]     /Users/alexanderkumar/nltk_data...\n",
      "[nltk_data]   Package punkt is already up-to-date!\n",
      "[nltk_data] Downloading package stopwords to\n",
      "[nltk_data]     /Users/alexanderkumar/nltk_data...\n",
      "[nltk_data]   Package stopwords is already up-to-date!\n",
      "[nltk_data] Downloading package wordnet to\n",
      "[nltk_data]     /Users/alexanderkumar/nltk_data...\n",
      "[nltk_data]   Package wordnet is already up-to-date!\n"
     ]
    }
   ],
   "source": [
    "from gensim.scripts.glove2word2vec import glove2word2vec\n",
    "from gensim.models import Word2Vec, KeyedVectors\n",
    "from gensim.models.callbacks import CallbackAny2Vec\n",
    "\n",
    "import nltk\n",
    "from nltk.corpus import stopwords\n",
    "from nltk.tokenize import RegexpTokenizer\n",
    "from nltk.stem import WordNetLemmatizer\n",
    "nltk.download('punkt')\n",
    "nltk.download('stopwords')\n",
    "nltk.download('wordnet')\n",
    "\n",
    "import pandas as pd\n",
    "import numpy as np\n",
    "from numpy.linalg import norm\n",
    "\n",
    "import umap.umap_ as umap\n",
    "from sklearn.preprocessing import StandardScaler\n",
    "import matplotlib.pyplot as plt\n",
    "\n",
    "import plotly.graph_objs as go\n",
    "from sklearn.decomposition import PCA\n"
   ]
  },
  {
   "cell_type": "code",
   "execution_count": 565,
   "metadata": {},
   "outputs": [],
   "source": [
    "# glove2word2vec(\"../models/glove.6B/glove.6B.100d.txt\", \"../models/glove.6B/glove_6B_100d_model.txt\")"
   ]
  },
  {
   "cell_type": "code",
   "execution_count": 566,
   "metadata": {},
   "outputs": [],
   "source": [
    "class callback(CallbackAny2Vec):\n",
    "    '''Callback to print loss after each epoch.'''\n",
    "\n",
    "    def __init__(self):\n",
    "        self.epoch = 0\n",
    "        self.last_loss = 0\n",
    "        self.total_losses = []\n",
    "\n",
    "    def on_epoch_end(self, model):\n",
    "        loss = model.get_latest_training_loss()\n",
    "        print('Loss after epoch {}: {}'.format(self.epoch, loss-self.last_loss))\n",
    "        self.total_losses.append(loss-self.last_loss)\n",
    "        self.last_loss = loss\n",
    "        self.epoch += 1\n",
    "        \n",
    "        if self.epoch == 99: self.plot()\n",
    "    \n",
    "    def plot(self):\n",
    "        plt.plot( list(range(1, self.epoch+1)),  self.total_losses)\n",
    "        plt.title(\"Loss Over Training\")\n",
    "        plt.xlabel(\"Epochs\")\n",
    "        plt.ylabel(\"Loss\")\n",
    "        plt.show()\n",
    "    \n",
    "    "
   ]
  },
  {
   "cell_type": "code",
   "execution_count": 567,
   "metadata": {},
   "outputs": [],
   "source": [
    "def most_similar(wv, keywords=[\"israel\", \"palestine\", \"gaza\", \"hamas\"]):\n",
    "    for word in keywords:\n",
    "        print(f\"Words most similar to {word}: \", \n",
    "            wv.most_similar(positive=[word], topn=10))\n",
    "    \n",
    "    return"
   ]
  },
  {
   "cell_type": "code",
   "execution_count": 568,
   "metadata": {},
   "outputs": [],
   "source": [
    "def compare_relations(pre, post, word):\n",
    "    pre_rel = pre.most_similar(positive=[word], topn=5)\n",
    "    post_rel = post.most_similar(positive=[word], topn=5)\n",
    "    print(f\"Pretrained Embeddings Most Similar to {word}: \", pre_rel)\n",
    "    print(f\"Finetuned Embeddings Most Similar to {word}: \", post_rel)\n",
    "    \n",
    "    return"
   ]
  },
  {
   "cell_type": "code",
   "execution_count": 569,
   "metadata": {},
   "outputs": [],
   "source": [
    "PAD_INDEX = 0\n",
    "UNK_INDEX = 1\n",
    "PAD_TOKEN = '<pad>'\n",
    "UNK_TOKEN = '<unk>'\n",
    "STOP_WORDS = set(stopwords.words('english'))\n",
    "TOKENIZER = RegexpTokenizer(r'\\w+')\n",
    "LEMMATIZER = WordNetLemmatizer()\n",
    "DIM = 100\n",
    "EPOCHS = 100\n",
    "RETAIN = 0.005\n",
    "\n",
    "experiment = 'nyt_oct_3'\n",
    "exp_title = 'NYT Oct'\n",
    "filename = '../data/NYT_text_data_cleaned.csv'\n",
    "pretrained_path = f\"../models/glove.6B/glove_6B_{DIM}d_model.txt\"\n",
    "data = pd.read_csv(filename)\n",
    "data = list(data['full_text'])\n",
    "model_name = f'../models/{experiment}.model'\n",
    "plot_name = f'../vis/{experiment}'\n",
    "txt_name = f'../vis/{experiment}_changed.csv'"
   ]
  },
  {
   "cell_type": "code",
   "execution_count": 570,
   "metadata": {},
   "outputs": [],
   "source": [
    "# # method 1: general\n",
    "# cleaned_data = []\n",
    "# for line in data:\n",
    "#     sents = nltk.sent_tokenize(line)\n",
    "#     sents = [sent.lower() for sent in sents]\n",
    "#     tknzed_sents = [nltk.word_tokenize(sent) for sent in sents]\n",
    "#     cleaned_data = cleaned_data + tknzed_sents"
   ]
  },
  {
   "cell_type": "code",
   "execution_count": 571,
   "metadata": {},
   "outputs": [
    {
     "ename": "KeyboardInterrupt",
     "evalue": "",
     "output_type": "error",
     "traceback": [
      "\u001b[0;31m---------------------------------------------------------------------------\u001b[0m",
      "\u001b[0;31mKeyboardInterrupt\u001b[0m                         Traceback (most recent call last)",
      "\u001b[1;32m/Users/alexanderkumar/Desktop/is-pal/code/embeddings.ipynb Cell 9\u001b[0m line \u001b[0;36m4\n\u001b[1;32m      <a href='vscode-notebook-cell:/Users/alexanderkumar/Desktop/is-pal/code/embeddings.ipynb#W6sZmlsZQ%3D%3D?line=1'>2</a>\u001b[0m cleaned_data \u001b[39m=\u001b[39m []\n\u001b[1;32m      <a href='vscode-notebook-cell:/Users/alexanderkumar/Desktop/is-pal/code/embeddings.ipynb#W6sZmlsZQ%3D%3D?line=2'>3</a>\u001b[0m \u001b[39mfor\u001b[39;00m line \u001b[39min\u001b[39;00m data:\n\u001b[0;32m----> <a href='vscode-notebook-cell:/Users/alexanderkumar/Desktop/is-pal/code/embeddings.ipynb#W6sZmlsZQ%3D%3D?line=3'>4</a>\u001b[0m     sents \u001b[39m=\u001b[39m nltk\u001b[39m.\u001b[39;49msent_tokenize(line)\n\u001b[1;32m      <a href='vscode-notebook-cell:/Users/alexanderkumar/Desktop/is-pal/code/embeddings.ipynb#W6sZmlsZQ%3D%3D?line=4'>5</a>\u001b[0m     \u001b[39mfor\u001b[39;00m sent \u001b[39min\u001b[39;00m sents:\n\u001b[1;32m      <a href='vscode-notebook-cell:/Users/alexanderkumar/Desktop/is-pal/code/embeddings.ipynb#W6sZmlsZQ%3D%3D?line=5'>6</a>\u001b[0m         words \u001b[39m=\u001b[39m sent\u001b[39m.\u001b[39msplit(\u001b[39m'\u001b[39m\u001b[39m \u001b[39m\u001b[39m'\u001b[39m)\n",
      "File \u001b[0;32m~/miniconda3/envs/compsci370/lib/python3.8/site-packages/nltk/tokenize/__init__.py:107\u001b[0m, in \u001b[0;36msent_tokenize\u001b[0;34m(text, language)\u001b[0m\n\u001b[1;32m     97\u001b[0m \u001b[39m\u001b[39m\u001b[39m\"\"\"\u001b[39;00m\n\u001b[1;32m     98\u001b[0m \u001b[39mReturn a sentence-tokenized copy of *text*,\u001b[39;00m\n\u001b[1;32m     99\u001b[0m \u001b[39musing NLTK's recommended sentence tokenizer\u001b[39;00m\n\u001b[0;32m   (...)\u001b[0m\n\u001b[1;32m    104\u001b[0m \u001b[39m:param language: the model name in the Punkt corpus\u001b[39;00m\n\u001b[1;32m    105\u001b[0m \u001b[39m\"\"\"\u001b[39;00m\n\u001b[1;32m    106\u001b[0m tokenizer \u001b[39m=\u001b[39m load(\u001b[39mf\u001b[39m\u001b[39m\"\u001b[39m\u001b[39mtokenizers/punkt/\u001b[39m\u001b[39m{\u001b[39;00mlanguage\u001b[39m}\u001b[39;00m\u001b[39m.pickle\u001b[39m\u001b[39m\"\u001b[39m)\n\u001b[0;32m--> 107\u001b[0m \u001b[39mreturn\u001b[39;00m tokenizer\u001b[39m.\u001b[39;49mtokenize(text)\n",
      "File \u001b[0;32m~/miniconda3/envs/compsci370/lib/python3.8/site-packages/nltk/tokenize/punkt.py:1281\u001b[0m, in \u001b[0;36mPunktSentenceTokenizer.tokenize\u001b[0;34m(self, text, realign_boundaries)\u001b[0m\n\u001b[1;32m   1277\u001b[0m \u001b[39mdef\u001b[39;00m \u001b[39mtokenize\u001b[39m(\u001b[39mself\u001b[39m, text: \u001b[39mstr\u001b[39m, realign_boundaries: \u001b[39mbool\u001b[39m \u001b[39m=\u001b[39m \u001b[39mTrue\u001b[39;00m) \u001b[39m-\u001b[39m\u001b[39m>\u001b[39m List[\u001b[39mstr\u001b[39m]:\n\u001b[1;32m   1278\u001b[0m \u001b[39m    \u001b[39m\u001b[39m\"\"\"\u001b[39;00m\n\u001b[1;32m   1279\u001b[0m \u001b[39m    Given a text, returns a list of the sentences in that text.\u001b[39;00m\n\u001b[1;32m   1280\u001b[0m \u001b[39m    \"\"\"\u001b[39;00m\n\u001b[0;32m-> 1281\u001b[0m     \u001b[39mreturn\u001b[39;00m \u001b[39mlist\u001b[39m(\u001b[39mself\u001b[39;49m\u001b[39m.\u001b[39;49msentences_from_text(text, realign_boundaries))\n",
      "File \u001b[0;32m~/miniconda3/envs/compsci370/lib/python3.8/site-packages/nltk/tokenize/punkt.py:1341\u001b[0m, in \u001b[0;36mPunktSentenceTokenizer.sentences_from_text\u001b[0;34m(self, text, realign_boundaries)\u001b[0m\n\u001b[1;32m   1332\u001b[0m \u001b[39mdef\u001b[39;00m \u001b[39msentences_from_text\u001b[39m(\n\u001b[1;32m   1333\u001b[0m     \u001b[39mself\u001b[39m, text: \u001b[39mstr\u001b[39m, realign_boundaries: \u001b[39mbool\u001b[39m \u001b[39m=\u001b[39m \u001b[39mTrue\u001b[39;00m\n\u001b[1;32m   1334\u001b[0m ) \u001b[39m-\u001b[39m\u001b[39m>\u001b[39m List[\u001b[39mstr\u001b[39m]:\n\u001b[1;32m   1335\u001b[0m \u001b[39m    \u001b[39m\u001b[39m\"\"\"\u001b[39;00m\n\u001b[1;32m   1336\u001b[0m \u001b[39m    Given a text, generates the sentences in that text by only\u001b[39;00m\n\u001b[1;32m   1337\u001b[0m \u001b[39m    testing candidate sentence breaks. If realign_boundaries is\u001b[39;00m\n\u001b[1;32m   1338\u001b[0m \u001b[39m    True, includes in the sentence closing punctuation that\u001b[39;00m\n\u001b[1;32m   1339\u001b[0m \u001b[39m    follows the period.\u001b[39;00m\n\u001b[1;32m   1340\u001b[0m \u001b[39m    \"\"\"\u001b[39;00m\n\u001b[0;32m-> 1341\u001b[0m     \u001b[39mreturn\u001b[39;00m [text[s:e] \u001b[39mfor\u001b[39;00m s, e \u001b[39min\u001b[39;00m \u001b[39mself\u001b[39m\u001b[39m.\u001b[39mspan_tokenize(text, realign_boundaries)]\n",
      "File \u001b[0;32m~/miniconda3/envs/compsci370/lib/python3.8/site-packages/nltk/tokenize/punkt.py:1341\u001b[0m, in \u001b[0;36m<listcomp>\u001b[0;34m(.0)\u001b[0m\n\u001b[1;32m   1332\u001b[0m \u001b[39mdef\u001b[39;00m \u001b[39msentences_from_text\u001b[39m(\n\u001b[1;32m   1333\u001b[0m     \u001b[39mself\u001b[39m, text: \u001b[39mstr\u001b[39m, realign_boundaries: \u001b[39mbool\u001b[39m \u001b[39m=\u001b[39m \u001b[39mTrue\u001b[39;00m\n\u001b[1;32m   1334\u001b[0m ) \u001b[39m-\u001b[39m\u001b[39m>\u001b[39m List[\u001b[39mstr\u001b[39m]:\n\u001b[1;32m   1335\u001b[0m \u001b[39m    \u001b[39m\u001b[39m\"\"\"\u001b[39;00m\n\u001b[1;32m   1336\u001b[0m \u001b[39m    Given a text, generates the sentences in that text by only\u001b[39;00m\n\u001b[1;32m   1337\u001b[0m \u001b[39m    testing candidate sentence breaks. If realign_boundaries is\u001b[39;00m\n\u001b[1;32m   1338\u001b[0m \u001b[39m    True, includes in the sentence closing punctuation that\u001b[39;00m\n\u001b[1;32m   1339\u001b[0m \u001b[39m    follows the period.\u001b[39;00m\n\u001b[1;32m   1340\u001b[0m \u001b[39m    \"\"\"\u001b[39;00m\n\u001b[0;32m-> 1341\u001b[0m     \u001b[39mreturn\u001b[39;00m [text[s:e] \u001b[39mfor\u001b[39;00m s, e \u001b[39min\u001b[39;00m \u001b[39mself\u001b[39m\u001b[39m.\u001b[39mspan_tokenize(text, realign_boundaries)]\n",
      "File \u001b[0;32m~/miniconda3/envs/compsci370/lib/python3.8/site-packages/nltk/tokenize/punkt.py:1329\u001b[0m, in \u001b[0;36mPunktSentenceTokenizer.span_tokenize\u001b[0;34m(self, text, realign_boundaries)\u001b[0m\n\u001b[1;32m   1327\u001b[0m \u001b[39mif\u001b[39;00m realign_boundaries:\n\u001b[1;32m   1328\u001b[0m     slices \u001b[39m=\u001b[39m \u001b[39mself\u001b[39m\u001b[39m.\u001b[39m_realign_boundaries(text, slices)\n\u001b[0;32m-> 1329\u001b[0m \u001b[39mfor\u001b[39;00m sentence \u001b[39min\u001b[39;00m slices:\n\u001b[1;32m   1330\u001b[0m     \u001b[39myield\u001b[39;00m (sentence\u001b[39m.\u001b[39mstart, sentence\u001b[39m.\u001b[39mstop)\n",
      "File \u001b[0;32m~/miniconda3/envs/compsci370/lib/python3.8/site-packages/nltk/tokenize/punkt.py:1459\u001b[0m, in \u001b[0;36mPunktSentenceTokenizer._realign_boundaries\u001b[0;34m(self, text, slices)\u001b[0m\n\u001b[1;32m   1446\u001b[0m \u001b[39m\u001b[39m\u001b[39m\"\"\"\u001b[39;00m\n\u001b[1;32m   1447\u001b[0m \u001b[39mAttempts to realign punctuation that falls after the period but\u001b[39;00m\n\u001b[1;32m   1448\u001b[0m \u001b[39mshould otherwise be included in the same sentence.\u001b[39;00m\n\u001b[0;32m   (...)\u001b[0m\n\u001b[1;32m   1456\u001b[0m \u001b[39m    [\"(Sent1.)\", \"Sent2.\"].\u001b[39;00m\n\u001b[1;32m   1457\u001b[0m \u001b[39m\"\"\"\u001b[39;00m\n\u001b[1;32m   1458\u001b[0m realign \u001b[39m=\u001b[39m \u001b[39m0\u001b[39m\n\u001b[0;32m-> 1459\u001b[0m \u001b[39mfor\u001b[39;00m sentence1, sentence2 \u001b[39min\u001b[39;00m _pair_iter(slices):\n\u001b[1;32m   1460\u001b[0m     sentence1 \u001b[39m=\u001b[39m \u001b[39mslice\u001b[39m(sentence1\u001b[39m.\u001b[39mstart \u001b[39m+\u001b[39m realign, sentence1\u001b[39m.\u001b[39mstop)\n\u001b[1;32m   1461\u001b[0m     \u001b[39mif\u001b[39;00m \u001b[39mnot\u001b[39;00m sentence2:\n",
      "File \u001b[0;32m~/miniconda3/envs/compsci370/lib/python3.8/site-packages/nltk/tokenize/punkt.py:324\u001b[0m, in \u001b[0;36m_pair_iter\u001b[0;34m(iterator)\u001b[0m\n\u001b[1;32m    322\u001b[0m \u001b[39mexcept\u001b[39;00m \u001b[39mStopIteration\u001b[39;00m:\n\u001b[1;32m    323\u001b[0m     \u001b[39mreturn\u001b[39;00m\n\u001b[0;32m--> 324\u001b[0m \u001b[39mfor\u001b[39;00m el \u001b[39min\u001b[39;00m iterator:\n\u001b[1;32m    325\u001b[0m     \u001b[39myield\u001b[39;00m (prev, el)\n\u001b[1;32m    326\u001b[0m     prev \u001b[39m=\u001b[39m el\n",
      "File \u001b[0;32m~/miniconda3/envs/compsci370/lib/python3.8/site-packages/nltk/tokenize/punkt.py:1432\u001b[0m, in \u001b[0;36mPunktSentenceTokenizer._slices_from_text\u001b[0;34m(self, text)\u001b[0m\n\u001b[1;32m   1430\u001b[0m last_break \u001b[39m=\u001b[39m \u001b[39m0\u001b[39m\n\u001b[1;32m   1431\u001b[0m \u001b[39mfor\u001b[39;00m match, context \u001b[39min\u001b[39;00m \u001b[39mself\u001b[39m\u001b[39m.\u001b[39m_match_potential_end_contexts(text):\n\u001b[0;32m-> 1432\u001b[0m     \u001b[39mif\u001b[39;00m \u001b[39mself\u001b[39;49m\u001b[39m.\u001b[39;49mtext_contains_sentbreak(context):\n\u001b[1;32m   1433\u001b[0m         \u001b[39myield\u001b[39;00m \u001b[39mslice\u001b[39m(last_break, match\u001b[39m.\u001b[39mend())\n\u001b[1;32m   1434\u001b[0m         \u001b[39mif\u001b[39;00m match\u001b[39m.\u001b[39mgroup(\u001b[39m\"\u001b[39m\u001b[39mnext_tok\u001b[39m\u001b[39m\"\u001b[39m):\n\u001b[1;32m   1435\u001b[0m             \u001b[39m# next sentence starts after whitespace\u001b[39;00m\n",
      "File \u001b[0;32m~/miniconda3/envs/compsci370/lib/python3.8/site-packages/nltk/tokenize/punkt.py:1480\u001b[0m, in \u001b[0;36mPunktSentenceTokenizer.text_contains_sentbreak\u001b[0;34m(self, text)\u001b[0m\n\u001b[1;32m   1476\u001b[0m \u001b[39m\u001b[39m\u001b[39m\"\"\"\u001b[39;00m\n\u001b[1;32m   1477\u001b[0m \u001b[39mReturns True if the given text includes a sentence break.\u001b[39;00m\n\u001b[1;32m   1478\u001b[0m \u001b[39m\"\"\"\u001b[39;00m\n\u001b[1;32m   1479\u001b[0m found \u001b[39m=\u001b[39m \u001b[39mFalse\u001b[39;00m  \u001b[39m# used to ignore last token\u001b[39;00m\n\u001b[0;32m-> 1480\u001b[0m \u001b[39mfor\u001b[39;00m tok \u001b[39min\u001b[39;00m \u001b[39mself\u001b[39m\u001b[39m.\u001b[39m_annotate_tokens(\u001b[39mself\u001b[39m\u001b[39m.\u001b[39m_tokenize_words(text)):\n\u001b[1;32m   1481\u001b[0m     \u001b[39mif\u001b[39;00m found:\n\u001b[1;32m   1482\u001b[0m         \u001b[39mreturn\u001b[39;00m \u001b[39mTrue\u001b[39;00m\n",
      "File \u001b[0;32m~/miniconda3/envs/compsci370/lib/python3.8/site-packages/nltk/tokenize/punkt.py:1623\u001b[0m, in \u001b[0;36mPunktSentenceTokenizer._annotate_second_pass\u001b[0;34m(self, tokens)\u001b[0m\n\u001b[1;32m   1617\u001b[0m \u001b[39m\u001b[39m\u001b[39m\"\"\"\u001b[39;00m\n\u001b[1;32m   1618\u001b[0m \u001b[39mPerforms a token-based classification (section 4) over the given\u001b[39;00m\n\u001b[1;32m   1619\u001b[0m \u001b[39mtokens, making use of the orthographic heuristic (4.1.1), collocation\u001b[39;00m\n\u001b[1;32m   1620\u001b[0m \u001b[39mheuristic (4.1.2) and frequent sentence starter heuristic (4.1.3).\u001b[39;00m\n\u001b[1;32m   1621\u001b[0m \u001b[39m\"\"\"\u001b[39;00m\n\u001b[1;32m   1622\u001b[0m \u001b[39mfor\u001b[39;00m token1, token2 \u001b[39min\u001b[39;00m _pair_iter(tokens):\n\u001b[0;32m-> 1623\u001b[0m     \u001b[39mself\u001b[39;49m\u001b[39m.\u001b[39;49m_second_pass_annotation(token1, token2)\n\u001b[1;32m   1624\u001b[0m     \u001b[39myield\u001b[39;00m token1\n",
      "File \u001b[0;32m~/miniconda3/envs/compsci370/lib/python3.8/site-packages/nltk/tokenize/punkt.py:1650\u001b[0m, in \u001b[0;36mPunktSentenceTokenizer._second_pass_annotation\u001b[0;34m(self, aug_tok1, aug_tok2)\u001b[0m\n\u001b[1;32m   1642\u001b[0m tok_is_initial \u001b[39m=\u001b[39m aug_tok1\u001b[39m.\u001b[39mis_initial\n\u001b[1;32m   1644\u001b[0m \u001b[39m# [4.1.2. Collocation Heuristic] If there's a\u001b[39;00m\n\u001b[1;32m   1645\u001b[0m \u001b[39m# collocation between the word before and after the\u001b[39;00m\n\u001b[1;32m   1646\u001b[0m \u001b[39m# period, then label tok as an abbreviation and NOT\u001b[39;00m\n\u001b[1;32m   1647\u001b[0m \u001b[39m# a sentence break. Note that collocations with\u001b[39;00m\n\u001b[1;32m   1648\u001b[0m \u001b[39m# frequent sentence starters as their second word are\u001b[39;00m\n\u001b[1;32m   1649\u001b[0m \u001b[39m# excluded in training.\u001b[39;00m\n\u001b[0;32m-> 1650\u001b[0m \u001b[39mif\u001b[39;00m (typ, next_typ) \u001b[39min\u001b[39;00m \u001b[39mself\u001b[39;49m\u001b[39m.\u001b[39;49m_params\u001b[39m.\u001b[39mcollocations:\n\u001b[1;32m   1651\u001b[0m     aug_tok1\u001b[39m.\u001b[39msentbreak \u001b[39m=\u001b[39m \u001b[39mFalse\u001b[39;00m\n\u001b[1;32m   1652\u001b[0m     aug_tok1\u001b[39m.\u001b[39mabbr \u001b[39m=\u001b[39m \u001b[39mTrue\u001b[39;00m\n",
      "\u001b[0;31mKeyboardInterrupt\u001b[0m: "
     ]
    }
   ],
   "source": [
    "# method 2: clean punkt\n",
    "cleaned_data = []\n",
    "for line in data:\n",
    "    sents = nltk.sent_tokenize(line)\n",
    "    for sent in sents:\n",
    "        words = sent.split(' ')\n",
    "        clean_sent = []\n",
    "        for word in words:\n",
    "            word = TOKENIZER.tokenize(word.lower())\n",
    "            for w in word:\n",
    "                if w not in STOP_WORDS:\n",
    "                    w = LEMMATIZER.lemmatize(w)\n",
    "                    clean_sent.append(w)\n",
    "    \n",
    "        cleaned_data.append(clean_sent)"
   ]
  },
  {
   "cell_type": "code",
   "execution_count": null,
   "metadata": {},
   "outputs": [],
   "source": [
    "# cleaned_data = []\n",
    "# for line in data:\n",
    "#     tokens = nltk.wordpunct_tokenize(line)\n",
    "#     text = nltk.Text(tokens)\n",
    "#     words = [w.lower() for w in text if w.isalpha() and w not in STOP_WORDS]\n",
    "#     cleaned_data.append(words)"
   ]
  },
  {
   "cell_type": "code",
   "execution_count": null,
   "metadata": {},
   "outputs": [],
   "source": [
    "# cleaned_data = []\n",
    "# for line in data:\n",
    "#     line = line.replace('\\xad', '')\n",
    "#     line = line.translate(str.maketrans('', '', string.punctuation))\n",
    "#     words = [w.lower() for w in line.split(' ') if w not in STOP_WORDS and w]\n",
    "#     cleaned_data.append(words)"
   ]
  },
  {
   "cell_type": "code",
   "execution_count": null,
   "metadata": {},
   "outputs": [],
   "source": [
    "# model = Word2Vec(vector_size=DIM, min_count=5)\n",
    "model = Word2Vec(size=DIM, min_count=5)\n",
    "\n",
    "model.build_vocab(cleaned_data)\n",
    "total_examples = model.corpus_count\n",
    "\n",
    "# Save the vocab of your dataset\n",
    "# vocab = list(model.wv.index_to_key)\n",
    "vocab = list(model.wv.vocab.keys())"
   ]
  },
  {
   "cell_type": "code",
   "execution_count": null,
   "metadata": {},
   "outputs": [],
   "source": [
    "model_pre = KeyedVectors.load_word2vec_format(pretrained_path, binary=False)\n",
    "\n",
    "new_words = [k for k in vocab if k not in model_pre]\n",
    "\n",
    "# Add the pre-trained model vocabulary\n",
    "model.build_vocab([list(model_pre.vocab.keys())], update=True)\n",
    "\n",
    "# Load the pre-trained models embeddings\n",
    "# note: if a word doesn't exist in the pre-trained vocabulary then it is left as is in the original model\n",
    "model.intersect_word2vec_format(pretrained_path, binary=False, lockf=RETAIN)"
   ]
  },
  {
   "cell_type": "code",
   "execution_count": null,
   "metadata": {},
   "outputs": [],
   "source": [
    "pre_word_embeddings = np.array([ model.wv[k] if k in model.wv else np.zeros(100) for k in vocab ]).copy()"
   ]
  },
  {
   "cell_type": "code",
   "execution_count": null,
   "metadata": {},
   "outputs": [
    {
     "name": "stdout",
     "output_type": "stream",
     "text": [
      "Loss after epoch 0: 151375.71875\n",
      "Loss after epoch 1: 157803.28125\n",
      "Loss after epoch 2: 149161.71875\n",
      "Loss after epoch 3: 147066.28125\n",
      "Loss after epoch 4: 123616.5625\n",
      "Loss after epoch 5: 120265.8125\n",
      "Loss after epoch 6: 136922.0\n",
      "Loss after epoch 7: 134515.125\n",
      "Loss after epoch 8: 133088.0\n",
      "Loss after epoch 9: 129199.25\n",
      "Loss after epoch 10: 128974.5\n",
      "Loss after epoch 11: 127877.375\n",
      "Loss after epoch 12: 125504.375\n",
      "Loss after epoch 13: 124460.5\n",
      "Loss after epoch 14: 105970.5\n",
      "Loss after epoch 15: 122576.25\n",
      "Loss after epoch 16: 116985.25\n",
      "Loss after epoch 17: 116789.5\n",
      "Loss after epoch 18: 99087.5\n",
      "Loss after epoch 19: 114736.25\n",
      "Loss after epoch 20: 114475.25\n",
      "Loss after epoch 21: 95911.25\n",
      "Loss after epoch 22: 112552.75\n",
      "Loss after epoch 23: 111705.25\n",
      "Loss after epoch 24: 112563.5\n",
      "Loss after epoch 25: 95156.5\n",
      "Loss after epoch 26: 110239.0\n",
      "Loss after epoch 27: 110287.75\n",
      "Loss after epoch 28: 109859.25\n",
      "Loss after epoch 29: 110302.75\n",
      "Loss after epoch 30: 108857.75\n",
      "Loss after epoch 31: 93348.75\n",
      "Loss after epoch 32: 95950.0\n",
      "Loss after epoch 33: 108553.75\n",
      "Loss after epoch 34: 107833.75\n",
      "Loss after epoch 35: 100487.0\n",
      "Loss after epoch 36: 98282.0\n",
      "Loss after epoch 37: 83122.0\n",
      "Loss after epoch 38: 86518.0\n",
      "Loss after epoch 39: 86926.5\n",
      "Loss after epoch 40: 97056.0\n",
      "Loss after epoch 41: 95803.5\n",
      "Loss after epoch 42: 96282.0\n",
      "Loss after epoch 43: 96438.0\n",
      "Loss after epoch 44: 95814.5\n",
      "Loss after epoch 45: 81761.5\n",
      "Loss after epoch 46: 84610.0\n",
      "Loss after epoch 47: 95547.5\n",
      "Loss after epoch 48: 83317.0\n",
      "Loss after epoch 49: 92080.5\n",
      "Loss after epoch 50: 81097.0\n",
      "Loss after epoch 51: 94418.5\n",
      "Loss after epoch 52: 95366.5\n",
      "Loss after epoch 53: 69654.0\n",
      "Loss after epoch 54: 93727.5\n",
      "Loss after epoch 55: 93741.5\n",
      "Loss after epoch 56: 94889.5\n",
      "Loss after epoch 57: 93745.5\n",
      "Loss after epoch 58: 93920.5\n",
      "Loss after epoch 59: 94202.0\n",
      "Loss after epoch 60: 94094.0\n",
      "Loss after epoch 61: 79004.0\n",
      "Loss after epoch 62: 93222.5\n",
      "Loss after epoch 63: 93335.5\n",
      "Loss after epoch 64: 93526.0\n",
      "Loss after epoch 65: 78697.0\n",
      "Loss after epoch 66: 93667.5\n",
      "Loss after epoch 67: 90056.5\n",
      "Loss after epoch 68: 92280.0\n",
      "Loss after epoch 69: 92964.5\n",
      "Loss after epoch 70: 77963.5\n",
      "Loss after epoch 71: 92557.0\n",
      "Loss after epoch 72: 92634.0\n",
      "Loss after epoch 73: 68849.0\n",
      "Loss after epoch 74: 80079.0\n",
      "Loss after epoch 75: 80217.5\n",
      "Loss after epoch 76: 92408.5\n",
      "Loss after epoch 77: 77244.0\n",
      "Loss after epoch 78: 92153.5\n",
      "Loss after epoch 79: 91624.5\n",
      "Loss after epoch 80: 91467.5\n",
      "Loss after epoch 81: 92068.5\n",
      "Loss after epoch 82: 83786.5\n",
      "Loss after epoch 83: 81958.0\n",
      "Loss after epoch 84: 81061.0\n",
      "Loss after epoch 85: 81338.0\n",
      "Loss after epoch 86: 81227.0\n",
      "Loss after epoch 87: 81577.0\n",
      "Loss after epoch 88: 80839.0\n",
      "Loss after epoch 89: 80569.0\n",
      "Loss after epoch 90: 80787.0\n",
      "Loss after epoch 91: 81389.0\n",
      "Loss after epoch 92: 68524.0\n",
      "Loss after epoch 93: 80489.0\n",
      "Loss after epoch 94: 68075.0\n",
      "Loss after epoch 95: 80333.0\n",
      "Loss after epoch 96: 80526.0\n",
      "Loss after epoch 97: 67968.0\n",
      "Loss after epoch 98: 80909.0\n"
     ]
    },
    {
     "data": {
      "image/png": "[encoded data removed]",
      "text/plain": [
       "<Figure size 432x288 with 1 Axes>"
      ]
     },
     "metadata": {
      "needs_background": "light"
     },
     "output_type": "display_data"
    },
    {
     "name": "stdout",
     "output_type": "stream",
     "text": [
      "Loss after epoch 99: 70390.0\n"
     ]
    }
   ],
   "source": [
    "model.train(cleaned_data, total_examples=total_examples, epochs=EPOCHS,\n",
    "            compute_loss=True, callbacks=[callback()])\n",
    "model.save(model_name)"
   ]
  },
  {
   "cell_type": "code",
   "execution_count": null,
   "metadata": {},
   "outputs": [
    {
     "name": "stdout",
     "output_type": "stream",
     "text": [
      "\n",
      "Pretrained: \n",
      "Words most similar to israel:  [('israeli', 0.8549681901931763), ('palestinians', 0.8094196915626526), ('palestinian', 0.784780740737915), ('lebanon', 0.7811505794525146), ('syria', 0.7781013250350952), ('israelis', 0.7683233022689819), ('jerusalem', 0.7669271230697632), ('gaza', 0.7554309368133545), ('netanyahu', 0.732354462146759), ('arafat', 0.731320321559906)]\n",
      "Words most similar to palestine:  [('israel', 0.6973910331726074), ('plo', 0.693358302116394), ('arab', 0.6852166652679443), ('jerusalem', 0.6812675595283508), ('lebanon', 0.6729379296302795), ('liberation', 0.6673558950424194), ('palestinian', 0.6671944856643677), ('territories', 0.6560360193252563), ('syria', 0.6443147659301758), ('gaza', 0.6302660703659058)]\n",
      "Words most similar to gaza:  [('palestinian', 0.8426833748817444), ('palestinians', 0.8025381565093994), ('strip', 0.7997498512268066), ('rafah', 0.7923834919929504), ('hamas', 0.7923679351806641), ('israeli', 0.769335150718689), ('ramallah', 0.7555270195007324), ('israel', 0.7554309368133545), ('nablus', 0.7381234765052795), ('jerusalem', 0.7268846035003662)]\n",
      "Words most similar to hamas:  [('fatah', 0.8834125399589539), ('palestinian', 0.8300597667694092), ('militant', 0.8067838549613953), ('abbas', 0.7989115715026855), ('hezbollah', 0.7927098274230957), ('gaza', 0.7923678159713745), ('arafat', 0.7740664482116699), ('militants', 0.7704329490661621), ('jihad', 0.7567542195320129), ('islamist', 0.7549754977226257)]\n",
      "\n",
      "Fine tuned: \n",
      "Words most similar to israel:  [('israeli', 0.7577241063117981), ('syria', 0.6810108423233032), ('palestinian', 0.6675571203231812), ('lebanon', 0.6604935526847839), ('netanyahu', 0.6413990259170532), ('gaza', 0.6319746375083923), ('hamas', 0.6244757175445557), ('arafat', 0.6226945519447327), ('jerusalem', 0.617342472076416), ('egypt', 0.6052877902984619)]\n",
      "Words most similar to palestine:  [('liberation', 0.6670370101928711), ('jerusalem', 0.6354078650474548), ('arab', 0.6286337375640869), ('golan', 0.5854160785675049), ('syria', 0.5830707550048828), ('zionist', 0.5801719427108765), ('palestinian', 0.5754233598709106), ('lebanon', 0.5749763250350952), ('israel', 0.5705986618995667), ('jihad', 0.5599417686462402)]\n",
      "Words most similar to gaza:  [('rafah', 0.7819756865501404), ('strip', 0.7506527900695801), ('palestinian', 0.7332409024238586), ('jenin', 0.7013735771179199), ('hamas', 0.7010366916656494), ('ramallah', 0.6878809928894043), ('israeli', 0.655905544757843), ('hebron', 0.6461541056632996), ('israel', 0.6319746375083923), ('yunis', 0.6316730976104736)]\n",
      "Words most similar to hamas:  [('fatah', 0.8300073146820068), ('palestinian', 0.7408716082572937), ('militant', 0.7331349849700928), ('abbas', 0.7097068428993225), ('islamist', 0.7019135355949402), ('gaza', 0.7010366916656494), ('hezbollah', 0.6948307752609253), ('arafat', 0.6807457208633423), ('jihad', 0.6739866733551025), ('israel', 0.6244757175445557)]\n"
     ]
    }
   ],
   "source": [
    "print(\"\\nPretrained: \")\n",
    "most_similar(model_pre)\n",
    "\n",
    "print(\"\\nFine tuned: \")\n",
    "most_similar(model.wv)"
   ]
  },
  {
   "cell_type": "code",
   "execution_count": null,
   "metadata": {},
   "outputs": [],
   "source": [
    "word_embeddings = np.array([ model.wv[k] if k in model.wv else np.zeros(100) for k in vocab ]).copy()"
   ]
  },
  {
   "cell_type": "code",
   "execution_count": null,
   "metadata": {},
   "outputs": [],
   "source": [
    "reducer = umap.UMAP()\n",
    "# embedding2d = reducer.fit_transform(word_embeddings)\n",
    "\n",
    "scaled_we = StandardScaler().fit_transform(word_embeddings)\n",
    "scaled_we_pre = StandardScaler().fit_transform(pre_word_embeddings)\n",
    "embedding2d = reducer.fit_transform(scaled_we)\n",
    "pre_embedding2d = reducer.fit_transform(scaled_we_pre)"
   ]
  },
  {
   "cell_type": "code",
   "execution_count": null,
   "metadata": {},
   "outputs": [
    {
     "data": {
      "image/png": "[encoded data removed]",
      "text/plain": [
       "<Figure size 432x288 with 1 Axes>"
      ]
     },
     "metadata": {
      "needs_background": "light"
     },
     "output_type": "display_data"
    }
   ],
   "source": [
    "plt.scatter(\n",
    "    embedding2d[:, 0],\n",
    "    embedding2d[:, 1])\n",
    "plt.title(f'Fine Tuned {exp_title}')\n",
    "plt.xlabel(\"X axis\")\n",
    "plt.ylabel(\"Y axis\")\n",
    "plt.savefig(plot_name + '_2d.png')"
   ]
  },
  {
   "cell_type": "code",
   "execution_count": null,
   "metadata": {},
   "outputs": [
    {
     "data": {
      "image/png": "[encoded data removed]",
      "text/plain": [
       "<Figure size 432x288 with 1 Axes>"
      ]
     },
     "metadata": {
      "needs_background": "light"
     },
     "output_type": "display_data"
    }
   ],
   "source": [
    "plt.scatter(\n",
    "    pre_embedding2d[:, 0],\n",
    "    pre_embedding2d[:, 1])\n",
    "plt.title(f'Pretrained Glove.6B.{DIM}d')\n",
    "plt.xlabel(\"X axis\")\n",
    "plt.ylabel(\"Y axis\")\n",
    "plt.savefig(f'../vis/glove-6B-{DIM}d' + '_2d.png')"
   ]
  },
  {
   "cell_type": "code",
   "execution_count": null,
   "metadata": {},
   "outputs": [
    {
     "ename": "KeyboardInterrupt",
     "evalue": "",
     "output_type": "error",
     "traceback": [
      "\u001b[0;31m---------------------------------------------------------------------------\u001b[0m",
      "\u001b[0;31mKeyboardInterrupt\u001b[0m                         Traceback (most recent call last)",
      "\u001b[1;32m/Users/alexanderkumar/Desktop/is-pal/code/embeddings.ipynb Cell 21\u001b[0m line \u001b[0;36m2\n\u001b[1;32m      <a href='vscode-notebook-cell:/Users/alexanderkumar/Desktop/is-pal/code/embeddings.ipynb#X26sZmlsZQ%3D%3D?line=0'>1</a>\u001b[0m pca \u001b[39m=\u001b[39m PCA(n_components\u001b[39m=\u001b[39m\u001b[39m3\u001b[39m)\n\u001b[0;32m----> <a href='vscode-notebook-cell:/Users/alexanderkumar/Desktop/is-pal/code/embeddings.ipynb#X26sZmlsZQ%3D%3D?line=1'>2</a>\u001b[0m reduced_embeddings \u001b[39m=\u001b[39m pca\u001b[39m.\u001b[39;49mfit_transform(word_embeddings)\n\u001b[1;32m      <a href='vscode-notebook-cell:/Users/alexanderkumar/Desktop/is-pal/code/embeddings.ipynb#X26sZmlsZQ%3D%3D?line=3'>4</a>\u001b[0m x, y, z \u001b[39m=\u001b[39m \u001b[39mzip\u001b[39m(\u001b[39m*\u001b[39mreduced_embeddings)\n\u001b[1;32m      <a href='vscode-notebook-cell:/Users/alexanderkumar/Desktop/is-pal/code/embeddings.ipynb#X26sZmlsZQ%3D%3D?line=5'>6</a>\u001b[0m \u001b[39m# Create a 3D scatter plot using Plotly\u001b[39;00m\n",
      "File \u001b[0;32m~/miniconda3/envs/compsci370/lib/python3.8/site-packages/sklearn/utils/_set_output.py:157\u001b[0m, in \u001b[0;36m_wrap_method_output.<locals>.wrapped\u001b[0;34m(self, X, *args, **kwargs)\u001b[0m\n\u001b[1;32m    155\u001b[0m \u001b[39m@wraps\u001b[39m(f)\n\u001b[1;32m    156\u001b[0m \u001b[39mdef\u001b[39;00m \u001b[39mwrapped\u001b[39m(\u001b[39mself\u001b[39m, X, \u001b[39m*\u001b[39margs, \u001b[39m*\u001b[39m\u001b[39m*\u001b[39mkwargs):\n\u001b[0;32m--> 157\u001b[0m     data_to_wrap \u001b[39m=\u001b[39m f(\u001b[39mself\u001b[39;49m, X, \u001b[39m*\u001b[39;49margs, \u001b[39m*\u001b[39;49m\u001b[39m*\u001b[39;49mkwargs)\n\u001b[1;32m    158\u001b[0m     \u001b[39mif\u001b[39;00m \u001b[39misinstance\u001b[39m(data_to_wrap, \u001b[39mtuple\u001b[39m):\n\u001b[1;32m    159\u001b[0m         \u001b[39m# only wrap the first output for cross decomposition\u001b[39;00m\n\u001b[1;32m    160\u001b[0m         return_tuple \u001b[39m=\u001b[39m (\n\u001b[1;32m    161\u001b[0m             _wrap_data_with_container(method, data_to_wrap[\u001b[39m0\u001b[39m], X, \u001b[39mself\u001b[39m),\n\u001b[1;32m    162\u001b[0m             \u001b[39m*\u001b[39mdata_to_wrap[\u001b[39m1\u001b[39m:],\n\u001b[1;32m    163\u001b[0m         )\n",
      "File \u001b[0;32m~/miniconda3/envs/compsci370/lib/python3.8/site-packages/sklearn/base.py:1152\u001b[0m, in \u001b[0;36m_fit_context.<locals>.decorator.<locals>.wrapper\u001b[0;34m(estimator, *args, **kwargs)\u001b[0m\n\u001b[1;32m   1145\u001b[0m     estimator\u001b[39m.\u001b[39m_validate_params()\n\u001b[1;32m   1147\u001b[0m \u001b[39mwith\u001b[39;00m config_context(\n\u001b[1;32m   1148\u001b[0m     skip_parameter_validation\u001b[39m=\u001b[39m(\n\u001b[1;32m   1149\u001b[0m         prefer_skip_nested_validation \u001b[39mor\u001b[39;00m global_skip_validation\n\u001b[1;32m   1150\u001b[0m     )\n\u001b[1;32m   1151\u001b[0m ):\n\u001b[0;32m-> 1152\u001b[0m     \u001b[39mreturn\u001b[39;00m fit_method(estimator, \u001b[39m*\u001b[39;49margs, \u001b[39m*\u001b[39;49m\u001b[39m*\u001b[39;49mkwargs)\n",
      "File \u001b[0;32m~/miniconda3/envs/compsci370/lib/python3.8/site-packages/sklearn/decomposition/_pca.py:460\u001b[0m, in \u001b[0;36mPCA.fit_transform\u001b[0;34m(self, X, y)\u001b[0m\n\u001b[1;32m    437\u001b[0m \u001b[39m@_fit_context\u001b[39m(prefer_skip_nested_validation\u001b[39m=\u001b[39m\u001b[39mTrue\u001b[39;00m)\n\u001b[1;32m    438\u001b[0m \u001b[39mdef\u001b[39;00m \u001b[39mfit_transform\u001b[39m(\u001b[39mself\u001b[39m, X, y\u001b[39m=\u001b[39m\u001b[39mNone\u001b[39;00m):\n\u001b[1;32m    439\u001b[0m \u001b[39m    \u001b[39m\u001b[39m\"\"\"Fit the model with X and apply the dimensionality reduction on X.\u001b[39;00m\n\u001b[1;32m    440\u001b[0m \n\u001b[1;32m    441\u001b[0m \u001b[39m    Parameters\u001b[39;00m\n\u001b[0;32m   (...)\u001b[0m\n\u001b[1;32m    458\u001b[0m \u001b[39m    C-ordered array, use 'np.ascontiguousarray'.\u001b[39;00m\n\u001b[1;32m    459\u001b[0m \u001b[39m    \"\"\"\u001b[39;00m\n\u001b[0;32m--> 460\u001b[0m     U, S, Vt \u001b[39m=\u001b[39m \u001b[39mself\u001b[39;49m\u001b[39m.\u001b[39;49m_fit(X)\n\u001b[1;32m    461\u001b[0m     U \u001b[39m=\u001b[39m U[:, : \u001b[39mself\u001b[39m\u001b[39m.\u001b[39mn_components_]\n\u001b[1;32m    463\u001b[0m     \u001b[39mif\u001b[39;00m \u001b[39mself\u001b[39m\u001b[39m.\u001b[39mwhiten:\n\u001b[1;32m    464\u001b[0m         \u001b[39m# X_new = X * V / S * sqrt(n_samples) = U * sqrt(n_samples)\u001b[39;00m\n",
      "File \u001b[0;32m~/miniconda3/envs/compsci370/lib/python3.8/site-packages/sklearn/decomposition/_pca.py:512\u001b[0m, in \u001b[0;36mPCA._fit\u001b[0;34m(self, X)\u001b[0m\n\u001b[1;32m    510\u001b[0m     \u001b[39mreturn\u001b[39;00m \u001b[39mself\u001b[39m\u001b[39m.\u001b[39m_fit_full(X, n_components)\n\u001b[1;32m    511\u001b[0m \u001b[39melif\u001b[39;00m \u001b[39mself\u001b[39m\u001b[39m.\u001b[39m_fit_svd_solver \u001b[39min\u001b[39;00m [\u001b[39m\"\u001b[39m\u001b[39marpack\u001b[39m\u001b[39m\"\u001b[39m, \u001b[39m\"\u001b[39m\u001b[39mrandomized\u001b[39m\u001b[39m\"\u001b[39m]:\n\u001b[0;32m--> 512\u001b[0m     \u001b[39mreturn\u001b[39;00m \u001b[39mself\u001b[39;49m\u001b[39m.\u001b[39;49m_fit_truncated(X, n_components, \u001b[39mself\u001b[39;49m\u001b[39m.\u001b[39;49m_fit_svd_solver)\n",
      "File \u001b[0;32m~/miniconda3/envs/compsci370/lib/python3.8/site-packages/sklearn/decomposition/_pca.py:616\u001b[0m, in \u001b[0;36mPCA._fit_truncated\u001b[0;34m(self, X, n_components, svd_solver)\u001b[0m\n\u001b[1;32m    612\u001b[0m     U, Vt \u001b[39m=\u001b[39m svd_flip(U[:, ::\u001b[39m-\u001b[39m\u001b[39m1\u001b[39m], Vt[::\u001b[39m-\u001b[39m\u001b[39m1\u001b[39m])\n\u001b[1;32m    614\u001b[0m \u001b[39melif\u001b[39;00m svd_solver \u001b[39m==\u001b[39m \u001b[39m\"\u001b[39m\u001b[39mrandomized\u001b[39m\u001b[39m\"\u001b[39m:\n\u001b[1;32m    615\u001b[0m     \u001b[39m# sign flipping is done inside\u001b[39;00m\n\u001b[0;32m--> 616\u001b[0m     U, S, Vt \u001b[39m=\u001b[39m randomized_svd(\n\u001b[1;32m    617\u001b[0m         X,\n\u001b[1;32m    618\u001b[0m         n_components\u001b[39m=\u001b[39;49mn_components,\n\u001b[1;32m    619\u001b[0m         n_oversamples\u001b[39m=\u001b[39;49m\u001b[39mself\u001b[39;49m\u001b[39m.\u001b[39;49mn_oversamples,\n\u001b[1;32m    620\u001b[0m         n_iter\u001b[39m=\u001b[39;49m\u001b[39mself\u001b[39;49m\u001b[39m.\u001b[39;49miterated_power,\n\u001b[1;32m    621\u001b[0m         power_iteration_normalizer\u001b[39m=\u001b[39;49m\u001b[39mself\u001b[39;49m\u001b[39m.\u001b[39;49mpower_iteration_normalizer,\n\u001b[1;32m    622\u001b[0m         flip_sign\u001b[39m=\u001b[39;49m\u001b[39mTrue\u001b[39;49;00m,\n\u001b[1;32m    623\u001b[0m         random_state\u001b[39m=\u001b[39;49mrandom_state,\n\u001b[1;32m    624\u001b[0m     )\n\u001b[1;32m    626\u001b[0m \u001b[39mself\u001b[39m\u001b[39m.\u001b[39mn_samples_ \u001b[39m=\u001b[39m n_samples\n\u001b[1;32m    627\u001b[0m \u001b[39mself\u001b[39m\u001b[39m.\u001b[39mcomponents_ \u001b[39m=\u001b[39m Vt\n",
      "File \u001b[0;32m~/miniconda3/envs/compsci370/lib/python3.8/site-packages/sklearn/utils/extmath.py:449\u001b[0m, in \u001b[0;36mrandomized_svd\u001b[0;34m(M, n_components, n_oversamples, n_iter, power_iteration_normalizer, transpose, flip_sign, random_state, svd_lapack_driver)\u001b[0m\n\u001b[1;32m    445\u001b[0m \u001b[39mif\u001b[39;00m transpose:\n\u001b[1;32m    446\u001b[0m     \u001b[39m# this implementation is a bit faster with smaller shape[1]\u001b[39;00m\n\u001b[1;32m    447\u001b[0m     M \u001b[39m=\u001b[39m M\u001b[39m.\u001b[39mT\n\u001b[0;32m--> 449\u001b[0m Q \u001b[39m=\u001b[39m randomized_range_finder(\n\u001b[1;32m    450\u001b[0m     M,\n\u001b[1;32m    451\u001b[0m     size\u001b[39m=\u001b[39;49mn_random,\n\u001b[1;32m    452\u001b[0m     n_iter\u001b[39m=\u001b[39;49mn_iter,\n\u001b[1;32m    453\u001b[0m     power_iteration_normalizer\u001b[39m=\u001b[39;49mpower_iteration_normalizer,\n\u001b[1;32m    454\u001b[0m     random_state\u001b[39m=\u001b[39;49mrandom_state,\n\u001b[1;32m    455\u001b[0m )\n\u001b[1;32m    457\u001b[0m \u001b[39m# project M to the (k + p) dimensional space using the basis vectors\u001b[39;00m\n\u001b[1;32m    458\u001b[0m B \u001b[39m=\u001b[39m safe_sparse_dot(Q\u001b[39m.\u001b[39mT, M)\n",
      "File \u001b[0;32m~/miniconda3/envs/compsci370/lib/python3.8/site-packages/sklearn/utils/extmath.py:278\u001b[0m, in \u001b[0;36mrandomized_range_finder\u001b[0;34m(A, size, n_iter, power_iteration_normalizer, random_state)\u001b[0m\n\u001b[1;32m    276\u001b[0m \u001b[39melif\u001b[39;00m power_iteration_normalizer \u001b[39m==\u001b[39m \u001b[39m\"\u001b[39m\u001b[39mLU\u001b[39m\u001b[39m\"\u001b[39m:\n\u001b[1;32m    277\u001b[0m     Q, _ \u001b[39m=\u001b[39m linalg\u001b[39m.\u001b[39mlu(safe_sparse_dot(A, Q), permute_l\u001b[39m=\u001b[39m\u001b[39mTrue\u001b[39;00m)\n\u001b[0;32m--> 278\u001b[0m     Q, _ \u001b[39m=\u001b[39m linalg\u001b[39m.\u001b[39mlu(safe_sparse_dot(A\u001b[39m.\u001b[39;49mT, Q), permute_l\u001b[39m=\u001b[39m\u001b[39mTrue\u001b[39;00m)\n\u001b[1;32m    279\u001b[0m \u001b[39melif\u001b[39;00m power_iteration_normalizer \u001b[39m==\u001b[39m \u001b[39m\"\u001b[39m\u001b[39mQR\u001b[39m\u001b[39m\"\u001b[39m:\n\u001b[1;32m    280\u001b[0m     Q, _ \u001b[39m=\u001b[39m linalg\u001b[39m.\u001b[39mqr(safe_sparse_dot(A, Q), mode\u001b[39m=\u001b[39m\u001b[39m\"\u001b[39m\u001b[39meconomic\u001b[39m\u001b[39m\"\u001b[39m)\n",
      "File \u001b[0;32m~/miniconda3/envs/compsci370/lib/python3.8/site-packages/sklearn/utils/extmath.py:192\u001b[0m, in \u001b[0;36msafe_sparse_dot\u001b[0;34m(a, b, dense_output)\u001b[0m\n\u001b[1;32m    190\u001b[0m         ret \u001b[39m=\u001b[39m np\u001b[39m.\u001b[39mdot(a, b)\n\u001b[1;32m    191\u001b[0m \u001b[39melse\u001b[39;00m:\n\u001b[0;32m--> 192\u001b[0m     ret \u001b[39m=\u001b[39m a \u001b[39m@\u001b[39;49m b\n\u001b[1;32m    194\u001b[0m \u001b[39mif\u001b[39;00m (\n\u001b[1;32m    195\u001b[0m     sparse\u001b[39m.\u001b[39missparse(a)\n\u001b[1;32m    196\u001b[0m     \u001b[39mand\u001b[39;00m sparse\u001b[39m.\u001b[39missparse(b)\n\u001b[1;32m    197\u001b[0m     \u001b[39mand\u001b[39;00m dense_output\n\u001b[1;32m    198\u001b[0m     \u001b[39mand\u001b[39;00m \u001b[39mhasattr\u001b[39m(ret, \u001b[39m\"\u001b[39m\u001b[39mtoarray\u001b[39m\u001b[39m\"\u001b[39m)\n\u001b[1;32m    199\u001b[0m ):\n\u001b[1;32m    200\u001b[0m     \u001b[39mreturn\u001b[39;00m ret\u001b[39m.\u001b[39mtoarray()\n",
      "\u001b[0;31mKeyboardInterrupt\u001b[0m: "
     ]
    }
   ],
   "source": [
    "pca = PCA(n_components=3)\n",
    "reduced_embeddings = pca.fit_transform(word_embeddings)\n",
    "\n",
    "x, y, z = zip(*reduced_embeddings)\n",
    "\n",
    "# Create a 3D scatter plot using Plotly\n",
    "scatter = go.Scatter3d(x=x, y=y, z=z, mode='markers', marker=dict(size=2, color='red'), text=vocab)\n",
    "\n",
    "layout = go.Layout(scene=dict(xaxis=dict(title='X Label'), yaxis=dict(title='Y Label'), zaxis=dict(title='Z Label')))\n",
    "\n",
    "fig = go.Figure(data=[scatter], layout=layout)\n",
    "\n",
    "# Show the interactive plot in a Jupyter Notebook\n",
    "fig.show()\n",
    "\n",
    "fig.write_html(plot_name + \"_3d.html\")"
   ]
  },
  {
   "cell_type": "code",
   "execution_count": null,
   "metadata": {},
   "outputs": [
    {
     "ename": "KeyboardInterrupt",
     "evalue": "",
     "output_type": "error",
     "traceback": [
      "\u001b[0;31m---------------------------------------------------------------------------\u001b[0m",
      "\u001b[0;31mKeyboardInterrupt\u001b[0m                         Traceback (most recent call last)",
      "\u001b[1;32m/Users/alexanderkumar/Desktop/is-pal/code/embeddings.ipynb Cell 22\u001b[0m line \u001b[0;36m1\n\u001b[0;32m----> <a href='vscode-notebook-cell:/Users/alexanderkumar/Desktop/is-pal/code/embeddings.ipynb#X30sZmlsZQ%3D%3D?line=0'>1</a>\u001b[0m pre_reduced_embeddings \u001b[39m=\u001b[39m pca\u001b[39m.\u001b[39;49mfit_transform(pre_word_embeddings)\n\u001b[1;32m      <a href='vscode-notebook-cell:/Users/alexanderkumar/Desktop/is-pal/code/embeddings.ipynb#X30sZmlsZQ%3D%3D?line=2'>3</a>\u001b[0m x, y, z \u001b[39m=\u001b[39m \u001b[39mzip\u001b[39m(\u001b[39m*\u001b[39mpre_reduced_embeddings)\n\u001b[1;32m      <a href='vscode-notebook-cell:/Users/alexanderkumar/Desktop/is-pal/code/embeddings.ipynb#X30sZmlsZQ%3D%3D?line=4'>5</a>\u001b[0m \u001b[39m# Create a 3D scatter plot using Plotly\u001b[39;00m\n",
      "File \u001b[0;32m~/miniconda3/envs/compsci370/lib/python3.8/site-packages/sklearn/utils/_set_output.py:157\u001b[0m, in \u001b[0;36m_wrap_method_output.<locals>.wrapped\u001b[0;34m(self, X, *args, **kwargs)\u001b[0m\n\u001b[1;32m    155\u001b[0m \u001b[39m@wraps\u001b[39m(f)\n\u001b[1;32m    156\u001b[0m \u001b[39mdef\u001b[39;00m \u001b[39mwrapped\u001b[39m(\u001b[39mself\u001b[39m, X, \u001b[39m*\u001b[39margs, \u001b[39m*\u001b[39m\u001b[39m*\u001b[39mkwargs):\n\u001b[0;32m--> 157\u001b[0m     data_to_wrap \u001b[39m=\u001b[39m f(\u001b[39mself\u001b[39;49m, X, \u001b[39m*\u001b[39;49margs, \u001b[39m*\u001b[39;49m\u001b[39m*\u001b[39;49mkwargs)\n\u001b[1;32m    158\u001b[0m     \u001b[39mif\u001b[39;00m \u001b[39misinstance\u001b[39m(data_to_wrap, \u001b[39mtuple\u001b[39m):\n\u001b[1;32m    159\u001b[0m         \u001b[39m# only wrap the first output for cross decomposition\u001b[39;00m\n\u001b[1;32m    160\u001b[0m         return_tuple \u001b[39m=\u001b[39m (\n\u001b[1;32m    161\u001b[0m             _wrap_data_with_container(method, data_to_wrap[\u001b[39m0\u001b[39m], X, \u001b[39mself\u001b[39m),\n\u001b[1;32m    162\u001b[0m             \u001b[39m*\u001b[39mdata_to_wrap[\u001b[39m1\u001b[39m:],\n\u001b[1;32m    163\u001b[0m         )\n",
      "File \u001b[0;32m~/miniconda3/envs/compsci370/lib/python3.8/site-packages/sklearn/base.py:1152\u001b[0m, in \u001b[0;36m_fit_context.<locals>.decorator.<locals>.wrapper\u001b[0;34m(estimator, *args, **kwargs)\u001b[0m\n\u001b[1;32m   1145\u001b[0m     estimator\u001b[39m.\u001b[39m_validate_params()\n\u001b[1;32m   1147\u001b[0m \u001b[39mwith\u001b[39;00m config_context(\n\u001b[1;32m   1148\u001b[0m     skip_parameter_validation\u001b[39m=\u001b[39m(\n\u001b[1;32m   1149\u001b[0m         prefer_skip_nested_validation \u001b[39mor\u001b[39;00m global_skip_validation\n\u001b[1;32m   1150\u001b[0m     )\n\u001b[1;32m   1151\u001b[0m ):\n\u001b[0;32m-> 1152\u001b[0m     \u001b[39mreturn\u001b[39;00m fit_method(estimator, \u001b[39m*\u001b[39;49margs, \u001b[39m*\u001b[39;49m\u001b[39m*\u001b[39;49mkwargs)\n",
      "File \u001b[0;32m~/miniconda3/envs/compsci370/lib/python3.8/site-packages/sklearn/decomposition/_pca.py:460\u001b[0m, in \u001b[0;36mPCA.fit_transform\u001b[0;34m(self, X, y)\u001b[0m\n\u001b[1;32m    437\u001b[0m \u001b[39m@_fit_context\u001b[39m(prefer_skip_nested_validation\u001b[39m=\u001b[39m\u001b[39mTrue\u001b[39;00m)\n\u001b[1;32m    438\u001b[0m \u001b[39mdef\u001b[39;00m \u001b[39mfit_transform\u001b[39m(\u001b[39mself\u001b[39m, X, y\u001b[39m=\u001b[39m\u001b[39mNone\u001b[39;00m):\n\u001b[1;32m    439\u001b[0m \u001b[39m    \u001b[39m\u001b[39m\"\"\"Fit the model with X and apply the dimensionality reduction on X.\u001b[39;00m\n\u001b[1;32m    440\u001b[0m \n\u001b[1;32m    441\u001b[0m \u001b[39m    Parameters\u001b[39;00m\n\u001b[0;32m   (...)\u001b[0m\n\u001b[1;32m    458\u001b[0m \u001b[39m    C-ordered array, use 'np.ascontiguousarray'.\u001b[39;00m\n\u001b[1;32m    459\u001b[0m \u001b[39m    \"\"\"\u001b[39;00m\n\u001b[0;32m--> 460\u001b[0m     U, S, Vt \u001b[39m=\u001b[39m \u001b[39mself\u001b[39;49m\u001b[39m.\u001b[39;49m_fit(X)\n\u001b[1;32m    461\u001b[0m     U \u001b[39m=\u001b[39m U[:, : \u001b[39mself\u001b[39m\u001b[39m.\u001b[39mn_components_]\n\u001b[1;32m    463\u001b[0m     \u001b[39mif\u001b[39;00m \u001b[39mself\u001b[39m\u001b[39m.\u001b[39mwhiten:\n\u001b[1;32m    464\u001b[0m         \u001b[39m# X_new = X * V / S * sqrt(n_samples) = U * sqrt(n_samples)\u001b[39;00m\n",
      "File \u001b[0;32m~/miniconda3/envs/compsci370/lib/python3.8/site-packages/sklearn/decomposition/_pca.py:512\u001b[0m, in \u001b[0;36mPCA._fit\u001b[0;34m(self, X)\u001b[0m\n\u001b[1;32m    510\u001b[0m     \u001b[39mreturn\u001b[39;00m \u001b[39mself\u001b[39m\u001b[39m.\u001b[39m_fit_full(X, n_components)\n\u001b[1;32m    511\u001b[0m \u001b[39melif\u001b[39;00m \u001b[39mself\u001b[39m\u001b[39m.\u001b[39m_fit_svd_solver \u001b[39min\u001b[39;00m [\u001b[39m\"\u001b[39m\u001b[39marpack\u001b[39m\u001b[39m\"\u001b[39m, \u001b[39m\"\u001b[39m\u001b[39mrandomized\u001b[39m\u001b[39m\"\u001b[39m]:\n\u001b[0;32m--> 512\u001b[0m     \u001b[39mreturn\u001b[39;00m \u001b[39mself\u001b[39;49m\u001b[39m.\u001b[39;49m_fit_truncated(X, n_components, \u001b[39mself\u001b[39;49m\u001b[39m.\u001b[39;49m_fit_svd_solver)\n",
      "File \u001b[0;32m~/miniconda3/envs/compsci370/lib/python3.8/site-packages/sklearn/decomposition/_pca.py:616\u001b[0m, in \u001b[0;36mPCA._fit_truncated\u001b[0;34m(self, X, n_components, svd_solver)\u001b[0m\n\u001b[1;32m    612\u001b[0m     U, Vt \u001b[39m=\u001b[39m svd_flip(U[:, ::\u001b[39m-\u001b[39m\u001b[39m1\u001b[39m], Vt[::\u001b[39m-\u001b[39m\u001b[39m1\u001b[39m])\n\u001b[1;32m    614\u001b[0m \u001b[39melif\u001b[39;00m svd_solver \u001b[39m==\u001b[39m \u001b[39m\"\u001b[39m\u001b[39mrandomized\u001b[39m\u001b[39m\"\u001b[39m:\n\u001b[1;32m    615\u001b[0m     \u001b[39m# sign flipping is done inside\u001b[39;00m\n\u001b[0;32m--> 616\u001b[0m     U, S, Vt \u001b[39m=\u001b[39m randomized_svd(\n\u001b[1;32m    617\u001b[0m         X,\n\u001b[1;32m    618\u001b[0m         n_components\u001b[39m=\u001b[39;49mn_components,\n\u001b[1;32m    619\u001b[0m         n_oversamples\u001b[39m=\u001b[39;49m\u001b[39mself\u001b[39;49m\u001b[39m.\u001b[39;49mn_oversamples,\n\u001b[1;32m    620\u001b[0m         n_iter\u001b[39m=\u001b[39;49m\u001b[39mself\u001b[39;49m\u001b[39m.\u001b[39;49miterated_power,\n\u001b[1;32m    621\u001b[0m         power_iteration_normalizer\u001b[39m=\u001b[39;49m\u001b[39mself\u001b[39;49m\u001b[39m.\u001b[39;49mpower_iteration_normalizer,\n\u001b[1;32m    622\u001b[0m         flip_sign\u001b[39m=\u001b[39;49m\u001b[39mTrue\u001b[39;49;00m,\n\u001b[1;32m    623\u001b[0m         random_state\u001b[39m=\u001b[39;49mrandom_state,\n\u001b[1;32m    624\u001b[0m     )\n\u001b[1;32m    626\u001b[0m \u001b[39mself\u001b[39m\u001b[39m.\u001b[39mn_samples_ \u001b[39m=\u001b[39m n_samples\n\u001b[1;32m    627\u001b[0m \u001b[39mself\u001b[39m\u001b[39m.\u001b[39mcomponents_ \u001b[39m=\u001b[39m Vt\n",
      "File \u001b[0;32m~/miniconda3/envs/compsci370/lib/python3.8/site-packages/sklearn/utils/extmath.py:449\u001b[0m, in \u001b[0;36mrandomized_svd\u001b[0;34m(M, n_components, n_oversamples, n_iter, power_iteration_normalizer, transpose, flip_sign, random_state, svd_lapack_driver)\u001b[0m\n\u001b[1;32m    445\u001b[0m \u001b[39mif\u001b[39;00m transpose:\n\u001b[1;32m    446\u001b[0m     \u001b[39m# this implementation is a bit faster with smaller shape[1]\u001b[39;00m\n\u001b[1;32m    447\u001b[0m     M \u001b[39m=\u001b[39m M\u001b[39m.\u001b[39mT\n\u001b[0;32m--> 449\u001b[0m Q \u001b[39m=\u001b[39m randomized_range_finder(\n\u001b[1;32m    450\u001b[0m     M,\n\u001b[1;32m    451\u001b[0m     size\u001b[39m=\u001b[39;49mn_random,\n\u001b[1;32m    452\u001b[0m     n_iter\u001b[39m=\u001b[39;49mn_iter,\n\u001b[1;32m    453\u001b[0m     power_iteration_normalizer\u001b[39m=\u001b[39;49mpower_iteration_normalizer,\n\u001b[1;32m    454\u001b[0m     random_state\u001b[39m=\u001b[39;49mrandom_state,\n\u001b[1;32m    455\u001b[0m )\n\u001b[1;32m    457\u001b[0m \u001b[39m# project M to the (k + p) dimensional space using the basis vectors\u001b[39;00m\n\u001b[1;32m    458\u001b[0m B \u001b[39m=\u001b[39m safe_sparse_dot(Q\u001b[39m.\u001b[39mT, M)\n",
      "File \u001b[0;32m~/miniconda3/envs/compsci370/lib/python3.8/site-packages/sklearn/utils/extmath.py:277\u001b[0m, in \u001b[0;36mrandomized_range_finder\u001b[0;34m(A, size, n_iter, power_iteration_normalizer, random_state)\u001b[0m\n\u001b[1;32m    275\u001b[0m     Q \u001b[39m=\u001b[39m safe_sparse_dot(A\u001b[39m.\u001b[39mT, Q)\n\u001b[1;32m    276\u001b[0m \u001b[39melif\u001b[39;00m power_iteration_normalizer \u001b[39m==\u001b[39m \u001b[39m\"\u001b[39m\u001b[39mLU\u001b[39m\u001b[39m\"\u001b[39m:\n\u001b[0;32m--> 277\u001b[0m     Q, _ \u001b[39m=\u001b[39m linalg\u001b[39m.\u001b[39;49mlu(safe_sparse_dot(A, Q), permute_l\u001b[39m=\u001b[39;49m\u001b[39mTrue\u001b[39;49;00m)\n\u001b[1;32m    278\u001b[0m     Q, _ \u001b[39m=\u001b[39m linalg\u001b[39m.\u001b[39mlu(safe_sparse_dot(A\u001b[39m.\u001b[39mT, Q), permute_l\u001b[39m=\u001b[39m\u001b[39mTrue\u001b[39;00m)\n\u001b[1;32m    279\u001b[0m \u001b[39melif\u001b[39;00m power_iteration_normalizer \u001b[39m==\u001b[39m \u001b[39m\"\u001b[39m\u001b[39mQR\u001b[39m\u001b[39m\"\u001b[39m:\n",
      "File \u001b[0;32m~/miniconda3/envs/compsci370/lib/python3.8/site-packages/scipy/linalg/_decomp_lu.py:220\u001b[0m, in \u001b[0;36mlu\u001b[0;34m(a, permute_l, overwrite_a, check_finite)\u001b[0m\n\u001b[1;32m    218\u001b[0m overwrite_a \u001b[39m=\u001b[39m overwrite_a \u001b[39mor\u001b[39;00m (_datacopied(a1, a))\n\u001b[1;32m    219\u001b[0m flu, \u001b[39m=\u001b[39m get_flinalg_funcs((\u001b[39m'\u001b[39m\u001b[39mlu\u001b[39m\u001b[39m'\u001b[39m,), (a1,))\n\u001b[0;32m--> 220\u001b[0m p, l, u, info \u001b[39m=\u001b[39m flu(a1, permute_l\u001b[39m=\u001b[39;49mpermute_l, overwrite_a\u001b[39m=\u001b[39;49moverwrite_a)\n\u001b[1;32m    221\u001b[0m \u001b[39mif\u001b[39;00m info \u001b[39m<\u001b[39m \u001b[39m0\u001b[39m:\n\u001b[1;32m    222\u001b[0m     \u001b[39mraise\u001b[39;00m \u001b[39mValueError\u001b[39;00m(\u001b[39m'\u001b[39m\u001b[39millegal value in \u001b[39m\u001b[39m%d\u001b[39;00m\u001b[39mth argument of \u001b[39m\u001b[39m'\u001b[39m\n\u001b[1;32m    223\u001b[0m                      \u001b[39m'\u001b[39m\u001b[39minternal lu.getrf\u001b[39m\u001b[39m'\u001b[39m \u001b[39m%\u001b[39m \u001b[39m-\u001b[39minfo)\n",
      "\u001b[0;31mKeyboardInterrupt\u001b[0m: "
     ]
    }
   ],
   "source": [
    "pre_reduced_embeddings = pca.fit_transform(pre_word_embeddings)\n",
    "\n",
    "x, y, z = zip(*pre_reduced_embeddings)\n",
    "\n",
    "# Create a 3D scatter plot using Plotly\n",
    "scatter = go.Scatter3d(x=x, y=y, z=z, mode='markers', marker=dict(size=2, color='red'), text=vocab)\n",
    "\n",
    "layout = go.Layout(scene=dict(xaxis=dict(title='X Label'), yaxis=dict(title='Y Label'), zaxis=dict(title='Z Label')))\n",
    "\n",
    "fig = go.Figure(data=[scatter], layout=layout)\n",
    "\n",
    "# Show the interactive plot in a Jupyter Notebook\n",
    "fig.show()\n",
    "fig.write_html(f'../vis/glove-6B-{DIM}d' + \"_3d.html\")"
   ]
  },
  {
   "cell_type": "code",
   "execution_count": null,
   "metadata": {},
   "outputs": [
    {
     "name": "stdout",
     "output_type": "stream",
     "text": [
      "palestinian\n",
      "Pretrained Embeddings Most Similar to palestinian:  [('israeli', 0.8842455744743347), ('palestinians', 0.8787567615509033), ('gaza', 0.8426833748817444), ('hamas', 0.830059826374054), ('arafat', 0.7853145599365234)]\n",
      "Finetuned Embeddings Most Similar to palestinian:  [('israeli', 0.8120347857475281), ('gaza', 0.7239096164703369), ('hamas', 0.7055630683898926), ('lebanese', 0.6993468999862671), ('plo', 0.6895391941070557)]\n",
      "israel\n",
      "Pretrained Embeddings Most Similar to israel:  [('israeli', 0.8549681901931763), ('palestinians', 0.8094196915626526), ('palestinian', 0.784780740737915), ('lebanon', 0.7811505794525146), ('syria', 0.7781013250350952)]\n",
      "Finetuned Embeddings Most Similar to israel:  [('israeli', 0.7681593894958496), ('netanyahu', 0.7044255137443542), ('syria', 0.7014702558517456), ('lebanon', 0.6902516484260559), ('palestinian', 0.6593629121780396)]\n",
      "gaza\n",
      "Pretrained Embeddings Most Similar to gaza:  [('palestinian', 0.8426833748817444), ('palestinians', 0.8025381565093994), ('strip', 0.7997498512268066), ('rafah', 0.7923834919929504), ('hamas', 0.7923679351806641)]\n",
      "Finetuned Embeddings Most Similar to gaza:  [('rafah', 0.7560496926307678), ('strip', 0.7502936124801636), ('palestinian', 0.7239096760749817), ('nablus', 0.712933361530304), ('jenin', 0.7105127573013306)]\n",
      "israeli\n",
      "Pretrained Embeddings Most Similar to israeli:  [('palestinian', 0.8842455744743347), ('israel', 0.8549681901931763), ('palestinians', 0.802330732345581), ('israelis', 0.7922239899635315), ('lebanese', 0.7776429057121277)]\n",
      "Finetuned Embeddings Most Similar to israeli:  [('palestinian', 0.8120347857475281), ('israel', 0.7681593298912048), ('lebanese', 0.7136729955673218), ('netanyahu', 0.6557639241218567), ('gaza', 0.6407850980758667)]\n",
      "people\n",
      "Pretrained Embeddings Most Similar to people:  [('others', 0.8318449258804321), ('those', 0.8050372004508972), ('many', 0.7967616319656372), ('some', 0.7750677466392517), ('they', 0.7717719078063965)]\n",
      "Finetuned Embeddings Most Similar to people:  [('others', 0.7791934013366699), ('many', 0.7379450798034668), ('say', 0.6708689332008362), ('least', 0.6643317937850952), ('dead', 0.6478457450866699)]\n",
      "day\n",
      "Pretrained Embeddings Most Similar to day:  [('days', 0.8859680891036987), ('week', 0.8516050577163696), ('next', 0.8323708772659302), ('time', 0.8276408910751343), ('night', 0.8261709213256836)]\n",
      "Finetuned Embeddings Most Similar to day:  [('week', 0.8173069953918457), ('weekend', 0.8013378977775574), ('month', 0.7816249132156372), ('night', 0.7801029682159424), ('next', 0.7762162685394287)]\n",
      "one\n",
      "Pretrained Embeddings Most Similar to one:  [('only', 0.9090818762779236), ('another', 0.9036163091659546), ('this', 0.871533989906311), ('same', 0.8648695349693298), ('two', 0.8642365336418152)]\n",
      "Finetuned Embeddings Most Similar to one:  [('another', 0.8409909605979919), ('two', 0.8170788288116455), ('three', 0.8121199607849121), ('five', 0.7991042733192444), ('four', 0.7922892570495605)]\n",
      "hamas\n",
      "Pretrained Embeddings Most Similar to hamas:  [('fatah', 0.8834125399589539), ('palestinian', 0.8300597667694092), ('militant', 0.8067838549613953), ('abbas', 0.7989115715026855), ('hezbollah', 0.7927098274230957)]\n",
      "Finetuned Embeddings Most Similar to hamas:  [('fatah', 0.8454012274742126), ('militant', 0.756740927696228), ('hezbollah', 0.747841477394104), ('abbas', 0.7476736307144165), ('islamist', 0.7329936027526855)]\n",
      "according\n",
      "Pretrained Embeddings Most Similar to according:  [('official', 0.780521035194397), ('report', 0.778089702129364), ('.', 0.7618527412414551), ('sources', 0.7458044290542603), ('earlier', 0.7457930445671082)]\n",
      "Finetuned Embeddings Most Similar to according:  [('report', 0.7244362235069275), ('reported', 0.6887158751487732), ('official', 0.6852424144744873), ('agency', 0.6841756105422974), ('citing', 0.6826228499412537)]\n",
      "attack\n",
      "Pretrained Embeddings Most Similar to attack:  [('attacks', 0.8884196281433105), ('suicide', 0.8183537721633911), ('bombing', 0.8118171691894531), ('raid', 0.7718696594238281), ('attacked', 0.7620526552200317)]\n",
      "Finetuned Embeddings Most Similar to attack:  [('bombing', 0.7794774770736694), ('raid', 0.7599763870239258), ('assault', 0.7421515583992004), ('attacked', 0.7399455308914185), ('retaliation', 0.7043241262435913)]\n"
     ]
    }
   ],
   "source": [
    "for word, _ in list(distances.items())[: 10]:\n",
    "    print(word)\n",
    "    compare_relations(model_pre, model.wv, word)"
   ]
  }
 ],
 "metadata": {
  "kernelspec": {
   "display_name": "nn661",
   "language": "python",
   "name": "python3"
  },
  "language_info": {
   "codemirror_mode": {
    "name": "ipython",
    "version": 3
   },
   "file_extension": ".py",
   "mimetype": "text/x-python",
   "name": "python",
   "nbconvert_exporter": "python",
   "pygments_lexer": "ipython3",
   "version": "3.8.11"
  }
 },
 "nbformat": 4,
 "nbformat_minor": 2
}
