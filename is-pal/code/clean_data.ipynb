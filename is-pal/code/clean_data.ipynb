{
 "cells": [
  {
   "cell_type": "code",
   "execution_count": 2,
   "metadata": {},
   "outputs": [],
   "source": [
    "import pandas as pd"
   ]
  },
  {
   "cell_type": "code",
   "execution_count": 8,
   "metadata": {},
   "outputs": [],
   "source": [
    "# import data\n",
    "filename = '../data/NYT_text_data_Nov.csv'\n",
    "new_filename = '../data/NYT_text_data_Nov_cleaned.csv'\n",
    "data = pd.read_csv(filename)"
   ]
  },
  {
   "cell_type": "code",
   "execution_count": 9,
   "metadata": {},
   "outputs": [],
   "source": [
    "# clean\n",
    "data.dropna(subset=['full_text'], inplace=True)                 # drop rows with no text\n",
    "duplicate_mask = data.duplicated(subset=['full_text'])          # drop rows with same text\n",
    "data = data[~duplicate_mask]"
   ]
  },
  {
   "cell_type": "code",
   "execution_count": 10,
   "metadata": {},
   "outputs": [],
   "source": [
    "data.to_csv(new_filename)"
   ]
  },
  {
   "cell_type": "code",
   "execution_count": 12,
   "metadata": {},
   "outputs": [
    {
     "name": "stdout",
     "output_type": "stream",
     "text": [
      "(235, 4)\n",
      "1092688\n"
     ]
    }
   ],
   "source": [
    "filename = '../data/Aljaz_text_data_cleaned.csv'\n",
    "data = pd.read_csv(filename)\n",
    "print(data.shape)\n",
    "total = 0\n",
    "for row in data['full_text']:\n",
    "    total += len(row)\n",
    "print(total)"
   ]
  }
 ],
 "metadata": {
  "kernelspec": {
   "display_name": "nn661",
   "language": "python",
   "name": "python3"
  },
  "language_info": {
   "codemirror_mode": {
    "name": "ipython",
    "version": 3
   },
   "file_extension": ".py",
   "mimetype": "text/x-python",
   "name": "python",
   "nbconvert_exporter": "python",
   "pygments_lexer": "ipython3",
   "version": "3.11.5"
  }
 },
 "nbformat": 4,
 "nbformat_minor": 2
}
